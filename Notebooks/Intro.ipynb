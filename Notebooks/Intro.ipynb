{
  "cells": [
    {
      "cell_type": "markdown",
      "metadata": {
        "id": "6tmjX6KLDNy_"
      },
      "source": [
        "# F2Heal - PAC analysis\n",
        "\n"
      ]
    },
    {
      "cell_type": "code",
      "execution_count": 1,
      "metadata": {
        "id": "5PP1-gweCUXb"
      },
      "outputs": [],
      "source": [
        "# SPDX-License-Identifier: AGPL-3.0-or-later"
      ]
    },
    {
      "cell_type": "markdown",
      "metadata": {
        "id": "li6G7p1MUb6V"
      },
      "source": [
        "Install required python packages, missing from std Colab install."
      ]
    },
    {
      "cell_type": "code",
      "execution_count": 2,
      "metadata": {
        "colab": {
          "base_uri": "https://localhost:8080/"
        },
        "collapsed": true,
        "id": "8FATL2srDbL7",
        "outputId": "6a9b0e97-fb37-4bdc-8b71-cfedc734aa03"
      },
      "outputs": [
        {
          "name": "stdout",
          "output_type": "stream",
          "text": [
            "Collecting mne\n",
            "  Downloading mne-1.7.0-py3-none-any.whl.metadata (13 kB)\n",
            "Collecting mne_bids\n",
            "  Downloading mne_bids-0.14-py2.py3-none-any.whl.metadata (4.8 kB)\n",
            "Collecting pactools\n",
            "  Downloading pactools-0.3.1-py3-none-any.whl.metadata (4.4 kB)\n",
            "Collecting openneuro-py\n",
            "  Downloading openneuro_py-2024.2.0-py3-none-any.whl.metadata (43 kB)\n",
            "\u001b[2K     \u001b[90m━━━━━━━━━━━━━━━━━━━━━━━━━━━━━━━━━━━━━━━━\u001b[0m \u001b[32m43.7/43.7 kB\u001b[0m \u001b[31m1.3 MB/s\u001b[0m eta \u001b[36m0:00:00\u001b[0m\n",
            "\u001b[?25hCollecting autoreject\n",
            "  Downloading autoreject-0.4.3-py3-none-any.whl.metadata (6.3 kB)\n",
            "Requirement already satisfied: decorator in /home/codespace/.local/lib/python3.10/site-packages (from mne) (5.1.1)\n",
            "Requirement already satisfied: jinja2 in /home/codespace/.local/lib/python3.10/site-packages (from mne) (3.1.4)\n",
            "Collecting lazy-loader>=0.3 (from mne)\n",
            "  Downloading lazy_loader-0.4-py3-none-any.whl.metadata (7.6 kB)\n",
            "Requirement already satisfied: matplotlib>=3.5.0 in /home/codespace/.local/lib/python3.10/site-packages (from mne) (3.8.4)\n",
            "Requirement already satisfied: numpy>=1.21.2 in /home/codespace/.local/lib/python3.10/site-packages (from mne) (1.26.4)\n",
            "Requirement already satisfied: packaging in /home/codespace/.local/lib/python3.10/site-packages (from mne) (24.0)\n",
            "Collecting pooch>=1.5 (from mne)\n",
            "  Downloading pooch-1.8.1-py3-none-any.whl.metadata (9.5 kB)\n",
            "Requirement already satisfied: scipy>=1.7.1 in /home/codespace/.local/lib/python3.10/site-packages (from mne) (1.13.0)\n",
            "Requirement already satisfied: tqdm in /usr/local/python/3.10.13/lib/python3.10/site-packages (from mne) (4.66.4)\n",
            "Requirement already satisfied: scikit-learn in /home/codespace/.local/lib/python3.10/site-packages (from pactools) (1.4.2)\n",
            "Collecting h5py (from pactools)\n",
            "  Downloading h5py-3.11.0-cp310-cp310-manylinux_2_17_x86_64.manylinux2014_x86_64.whl.metadata (2.5 kB)\n",
            "Collecting aiofiles (from openneuro-py)\n",
            "  Downloading aiofiles-23.2.1-py3-none-any.whl.metadata (9.7 kB)\n",
            "Requirement already satisfied: httpx>=0.15 in /home/codespace/.local/lib/python3.10/site-packages (from openneuro-py) (0.27.0)\n",
            "Requirement already satisfied: platformdirs in /home/codespace/.local/lib/python3.10/site-packages (from openneuro-py) (4.2.1)\n",
            "Requirement already satisfied: requests in /home/codespace/.local/lib/python3.10/site-packages (from openneuro-py) (2.31.0)\n",
            "Collecting sgqlc (from openneuro-py)\n",
            "  Downloading sgqlc-16.3-py3-none-any.whl.metadata (18 kB)\n",
            "Collecting typer[all] (from openneuro-py)\n",
            "  Downloading typer-0.12.3-py3-none-any.whl.metadata (15 kB)\n",
            "Requirement already satisfied: joblib in /home/codespace/.local/lib/python3.10/site-packages (from autoreject) (1.4.2)\n",
            "Requirement already satisfied: anyio in /home/codespace/.local/lib/python3.10/site-packages (from httpx>=0.15->openneuro-py) (4.3.0)\n",
            "Requirement already satisfied: certifi in /home/codespace/.local/lib/python3.10/site-packages (from httpx>=0.15->openneuro-py) (2024.2.2)\n",
            "Requirement already satisfied: httpcore==1.* in /home/codespace/.local/lib/python3.10/site-packages (from httpx>=0.15->openneuro-py) (1.0.5)\n",
            "Requirement already satisfied: idna in /home/codespace/.local/lib/python3.10/site-packages (from httpx>=0.15->openneuro-py) (3.7)\n",
            "Requirement already satisfied: sniffio in /home/codespace/.local/lib/python3.10/site-packages (from httpx>=0.15->openneuro-py) (1.3.1)\n",
            "Requirement already satisfied: h11<0.15,>=0.13 in /home/codespace/.local/lib/python3.10/site-packages (from httpcore==1.*->httpx>=0.15->openneuro-py) (0.14.0)\n",
            "Requirement already satisfied: contourpy>=1.0.1 in /home/codespace/.local/lib/python3.10/site-packages (from matplotlib>=3.5.0->mne) (1.2.1)\n",
            "Requirement already satisfied: cycler>=0.10 in /home/codespace/.local/lib/python3.10/site-packages (from matplotlib>=3.5.0->mne) (0.12.1)\n",
            "Requirement already satisfied: fonttools>=4.22.0 in /home/codespace/.local/lib/python3.10/site-packages (from matplotlib>=3.5.0->mne) (4.51.0)\n",
            "Requirement already satisfied: kiwisolver>=1.3.1 in /home/codespace/.local/lib/python3.10/site-packages (from matplotlib>=3.5.0->mne) (1.4.5)\n",
            "Requirement already satisfied: pillow>=8 in /home/codespace/.local/lib/python3.10/site-packages (from matplotlib>=3.5.0->mne) (10.3.0)\n",
            "Requirement already satisfied: pyparsing>=2.3.1 in /home/codespace/.local/lib/python3.10/site-packages (from matplotlib>=3.5.0->mne) (3.1.2)\n",
            "Requirement already satisfied: python-dateutil>=2.7 in /home/codespace/.local/lib/python3.10/site-packages (from matplotlib>=3.5.0->mne) (2.9.0.post0)\n",
            "Collecting h5io (from mne[hdf5]>=1.0->autoreject)\n",
            "  Downloading h5io-0.2.2-py3-none-any.whl.metadata (4.2 kB)\n",
            "Collecting pymatreader (from mne[hdf5]>=1.0->autoreject)\n",
            "  Downloading pymatreader-0.0.32-py3-none-any.whl.metadata (1.4 kB)\n",
            "Requirement already satisfied: charset-normalizer<4,>=2 in /home/codespace/.local/lib/python3.10/site-packages (from requests->openneuro-py) (3.3.2)\n",
            "Requirement already satisfied: urllib3<3,>=1.21.1 in /usr/local/python/3.10.13/lib/python3.10/site-packages (from requests->openneuro-py) (2.0.7)\n",
            "Requirement already satisfied: threadpoolctl>=2.0.0 in /home/codespace/.local/lib/python3.10/site-packages (from scikit-learn->pactools) (3.5.0)\n",
            "Requirement already satisfied: MarkupSafe>=2.0 in /home/codespace/.local/lib/python3.10/site-packages (from jinja2->mne) (2.1.5)\n",
            "Collecting graphql-core<4.0.0,>=3.1.7 (from sgqlc->openneuro-py)\n",
            "  Downloading graphql_core-3.2.3-py3-none-any.whl.metadata (10 kB)\n",
            "\u001b[33mWARNING: typer 0.12.3 does not provide the extra 'all'\u001b[0m\u001b[33m\n",
            "\u001b[0mCollecting click>=8.0.0 (from typer[all]->openneuro-py)\n",
            "  Downloading click-8.1.7-py3-none-any.whl.metadata (3.0 kB)\n",
            "Requirement already satisfied: typing-extensions>=3.7.4.3 in /home/codespace/.local/lib/python3.10/site-packages (from typer[all]->openneuro-py) (4.11.0)\n",
            "Collecting shellingham>=1.3.0 (from typer[all]->openneuro-py)\n",
            "  Downloading shellingham-1.5.4-py2.py3-none-any.whl.metadata (3.5 kB)\n",
            "Collecting rich>=10.11.0 (from typer[all]->openneuro-py)\n",
            "  Downloading rich-13.7.1-py3-none-any.whl.metadata (18 kB)\n",
            "Requirement already satisfied: six>=1.5 in /home/codespace/.local/lib/python3.10/site-packages (from python-dateutil>=2.7->matplotlib>=3.5.0->mne) (1.16.0)\n",
            "Collecting markdown-it-py>=2.2.0 (from rich>=10.11.0->typer[all]->openneuro-py)\n",
            "  Downloading markdown_it_py-3.0.0-py3-none-any.whl.metadata (6.9 kB)\n",
            "Requirement already satisfied: pygments<3.0.0,>=2.13.0 in /home/codespace/.local/lib/python3.10/site-packages (from rich>=10.11.0->typer[all]->openneuro-py) (2.18.0)\n",
            "Requirement already satisfied: exceptiongroup>=1.0.2 in /home/codespace/.local/lib/python3.10/site-packages (from anyio->httpx>=0.15->openneuro-py) (1.2.1)\n",
            "Collecting xmltodict (from pymatreader->mne[hdf5]>=1.0->autoreject)\n",
            "  Downloading xmltodict-0.13.0-py2.py3-none-any.whl.metadata (7.7 kB)\n",
            "Collecting mdurl~=0.1 (from markdown-it-py>=2.2.0->rich>=10.11.0->typer[all]->openneuro-py)\n",
            "  Downloading mdurl-0.1.2-py3-none-any.whl.metadata (1.6 kB)\n",
            "Downloading mne-1.7.0-py3-none-any.whl (7.4 MB)\n",
            "\u001b[2K   \u001b[90m━━━━━━━━━━━━━━━━━━━━━━━━━━━━━━━━━━━━━━━━\u001b[0m \u001b[32m7.4/7.4 MB\u001b[0m \u001b[31m57.2 MB/s\u001b[0m eta \u001b[36m0:00:00\u001b[0m:00:01\u001b[0m00:01\u001b[0m\n",
            "\u001b[?25hDownloading mne_bids-0.14-py2.py3-none-any.whl (1.2 MB)\n",
            "\u001b[2K   \u001b[90m━━━━━━━━━━━━━━━━━━━━━━━━━━━━━━━━━━━━━━━━\u001b[0m \u001b[32m1.2/1.2 MB\u001b[0m \u001b[31m19.8 MB/s\u001b[0m eta \u001b[36m0:00:00\u001b[0m:00:01\u001b[0m\n",
            "\u001b[?25hDownloading pactools-0.3.1-py3-none-any.whl (82 kB)\n",
            "\u001b[2K   \u001b[90m━━━━━━━━━━━━━━━━━━━━━━━━━━━━━━━━━━━━━━━━\u001b[0m \u001b[32m82.7/82.7 kB\u001b[0m \u001b[31m2.5 MB/s\u001b[0m eta \u001b[36m0:00:00\u001b[0m\n",
            "\u001b[?25hDownloading openneuro_py-2024.2.0-py3-none-any.whl (40 kB)\n",
            "\u001b[2K   \u001b[90m━━━━━━━━━━━━━━━━━━━━━━━━━━━━━━━━━━━━━━━━\u001b[0m \u001b[32m40.4/40.4 kB\u001b[0m \u001b[31m1.1 MB/s\u001b[0m eta \u001b[36m0:00:00\u001b[0m\n",
            "\u001b[?25hDownloading autoreject-0.4.3-py3-none-any.whl (29 kB)\n",
            "Downloading lazy_loader-0.4-py3-none-any.whl (12 kB)\n",
            "Downloading pooch-1.8.1-py3-none-any.whl (62 kB)\n",
            "\u001b[2K   \u001b[90m━━━━━━━━━━━━━━━━━━━━━━━━━━━━━━━━━━━━━━━━\u001b[0m \u001b[32m63.0/63.0 kB\u001b[0m \u001b[31m2.2 MB/s\u001b[0m eta \u001b[36m0:00:00\u001b[0m\n",
            "\u001b[?25hDownloading aiofiles-23.2.1-py3-none-any.whl (15 kB)\n",
            "Downloading h5py-3.11.0-cp310-cp310-manylinux_2_17_x86_64.manylinux2014_x86_64.whl (5.3 MB)\n",
            "\u001b[2K   \u001b[90m━━━━━━━━━━━━━━━━━━━━━━━━━━━━━━━━━━━━━━━━\u001b[0m \u001b[32m5.3/5.3 MB\u001b[0m \u001b[31m49.6 MB/s\u001b[0m eta \u001b[36m0:00:00\u001b[0m:00:01\u001b[0m00:01\u001b[0m\n",
            "\u001b[?25hDownloading sgqlc-16.3-py3-none-any.whl (81 kB)\n",
            "\u001b[2K   \u001b[90m━━━━━━━━━━━━━━━━━━━━━━━━━━━━━━━━━━━━━━━━\u001b[0m \u001b[32m81.6/81.6 kB\u001b[0m \u001b[31m2.7 MB/s\u001b[0m eta \u001b[36m0:00:00\u001b[0m\n",
            "\u001b[?25hDownloading click-8.1.7-py3-none-any.whl (97 kB)\n",
            "\u001b[2K   \u001b[90m━━━━━━━━━━━━━━━━━━━━━━━━━━━━━━━━━━━━━━━━\u001b[0m \u001b[32m97.9/97.9 kB\u001b[0m \u001b[31m3.3 MB/s\u001b[0m eta \u001b[36m0:00:00\u001b[0m\n",
            "\u001b[?25hDownloading graphql_core-3.2.3-py3-none-any.whl (202 kB)\n",
            "\u001b[2K   \u001b[90m━━━━━━━━━━━━━━━━━━━━━━━━━━━━━━━━━━━━━━━━\u001b[0m \u001b[32m202.9/202.9 kB\u001b[0m \u001b[31m6.6 MB/s\u001b[0m eta \u001b[36m0:00:00\u001b[0m\n",
            "\u001b[?25hDownloading rich-13.7.1-py3-none-any.whl (240 kB)\n",
            "\u001b[2K   \u001b[90m━━━━━━━━━━━━━━━━━━━━━━━━━━━━━━━━━━━━━━━━\u001b[0m \u001b[32m240.7/240.7 kB\u001b[0m \u001b[31m8.1 MB/s\u001b[0m eta \u001b[36m0:00:00\u001b[0m\n",
            "\u001b[?25hDownloading shellingham-1.5.4-py2.py3-none-any.whl (9.8 kB)\n",
            "Downloading h5io-0.2.2-py3-none-any.whl (17 kB)\n",
            "Downloading pymatreader-0.0.32-py3-none-any.whl (9.0 kB)\n",
            "Downloading typer-0.12.3-py3-none-any.whl (47 kB)\n",
            "\u001b[2K   \u001b[90m━━━━━━━━━━━━━━━━━━━━━━━━━━━━━━━━━━━━━━━━\u001b[0m \u001b[32m47.2/47.2 kB\u001b[0m \u001b[31m1.2 MB/s\u001b[0m eta \u001b[36m0:00:00\u001b[0m\n",
            "\u001b[?25hDownloading markdown_it_py-3.0.0-py3-none-any.whl (87 kB)\n",
            "\u001b[2K   \u001b[90m━━━━━━━━━━━━━━━━━━━━━━━━━━━━━━━━━━━━━━━━\u001b[0m \u001b[32m87.5/87.5 kB\u001b[0m \u001b[31m2.6 MB/s\u001b[0m eta \u001b[36m0:00:00\u001b[0m\n",
            "\u001b[?25hDownloading xmltodict-0.13.0-py2.py3-none-any.whl (10.0 kB)\n",
            "Downloading mdurl-0.1.2-py3-none-any.whl (10.0 kB)\n",
            "Installing collected packages: xmltodict, shellingham, mdurl, lazy-loader, h5py, graphql-core, click, aiofiles, sgqlc, pymatreader, pooch, markdown-it-py, h5io, rich, mne, typer, pactools, mne_bids, autoreject, openneuro-py\n",
            "Successfully installed aiofiles-23.2.1 autoreject-0.4.3 click-8.1.7 graphql-core-3.2.3 h5io-0.2.2 h5py-3.11.0 lazy-loader-0.4 markdown-it-py-3.0.0 mdurl-0.1.2 mne-1.7.0 mne_bids-0.14 openneuro-py-2024.2.0 pactools-0.3.1 pooch-1.8.1 pymatreader-0.0.32 rich-13.7.1 sgqlc-16.3 shellingham-1.5.4 typer-0.12.3 xmltodict-0.13.0\n"
          ]
        }
      ],
      "source": [
        "!pip install mne mne_bids pactools openneuro-py autoreject"
      ]
    },
    {
      "cell_type": "markdown",
      "metadata": {
        "id": "vMC-6VaaUg0n"
      },
      "source": [
        "Start of the python script. Import required libraries."
      ]
    },
    {
      "cell_type": "code",
      "execution_count": 3,
      "metadata": {
        "colab": {
          "base_uri": "https://localhost:8080/"
        },
        "collapsed": true,
        "id": "zBDbOG8DDfZr",
        "outputId": "c73d68c5-e632-4145-c841-1e89679bab96"
      },
      "outputs": [],
      "source": [
        "import mne\n",
        "import mne_bids\n",
        "import openneuro\n",
        "\n",
        "import autoreject\n",
        "\n",
        "import numpy as np\n",
        "import pactools\n",
        "import matplotlib.pyplot as plt"
      ]
    },
    {
      "cell_type": "markdown",
      "metadata": {
        "id": "V9xxmQcbUmlJ"
      },
      "source": [
        "Configurable parameter. Change to `False` for less output."
      ]
    },
    {
      "cell_type": "code",
      "execution_count": 4,
      "metadata": {
        "id": "OyqBH8FsE0z5"
      },
      "outputs": [],
      "source": [
        "verbose = True"
      ]
    },
    {
      "cell_type": "markdown",
      "metadata": {
        "id": "NAtGeqypUvXk"
      },
      "source": [
        "A class with configuration data describing the OpenNeuro dataset that will be used from here on."
      ]
    },
    {
      "cell_type": "code",
      "execution_count": 10,
      "metadata": {
        "id": "MiX18xOeFWaj"
      },
      "outputs": [],
      "source": [
        "class ONDataset:\n",
        "    \"\"\"\n",
        "    Open EEG dataset from openneuro\n",
        "    Parkinson's EEG dataset <https://openneuro.org/datasets/ds002778\n",
        "    \"\"\"\n",
        "    dataset = 'ds002778'\n",
        "    bids_root = \"/tmp/mne\"\n",
        "    datatype = 'eeg'\n",
        "    task = 'rest'\n",
        "    suffix = 'eeg'\n"
      ]
    },
    {
      "cell_type": "markdown",
      "metadata": {
        "id": "jWrzDUGKU1i-"
      },
      "source": [
        "A class with configuration parameters relevant for the PAC generation"
      ]
    },
    {
      "cell_type": "code",
      "execution_count": 11,
      "metadata": {
        "id": "Gdxd81KPGpx3"
      },
      "outputs": [],
      "source": [
        "class PACSettings:\n",
        "    low_fq_range = np.linspace(13,50,150)\n",
        "    low_fq_width = 2\n",
        "    high_fq_range= np.linspace(50,200,150)\n",
        "    high_fq_width= 4\n",
        "    method= 'duprelatour'\n",
        "\n",
        "    def create_Comodulogram(fs):\n",
        "        return pactools.Comodulogram (fs=fs,\n",
        "                                      low_fq_range=PACSettings.low_fq_range,\n",
        "                                      low_fq_width=PACSettings.low_fq_width,\n",
        "                                      high_fq_range=PACSettings.high_fq_range,\n",
        "                                      high_fq_width=PACSettings.high_fq_width,\n",
        "                                      method=PACSettings.method,\n",
        "                                      progress_bar=verbose,\n",
        "                                      n_jobs=16)"
      ]
    },
    {
      "cell_type": "markdown",
      "metadata": {
        "id": "DkuRLK_3HNj9"
      },
      "source": [
        "Pick a valid subject from list: 3, 5, 6, 9, 11, 12, 13, 14, 16, 17, 19, 22, 23, 26, 28"
      ]
    },
    {
      "cell_type": "code",
      "execution_count": 7,
      "metadata": {
        "id": "A3VR7NRgHKts"
      },
      "outputs": [],
      "source": [
        "subject = \"pd6\""
      ]
    },
    {
      "cell_type": "code",
      "execution_count": 13,
      "metadata": {
        "colab": {
          "base_uri": "https://localhost:8080/",
          "height": 257,
          "referenced_widgets": [
            "fea4964f44d744bda3dca6d26a4cddb9",
            "e589aa36a04c47188557558bffaba0a1",
            "2d761bc9063e4bd1982ee2822b38c10f",
            "4ea6d5ec4e674b86b326e9ad059515ac",
            "b7e87a6c3b044a88a6d80ece25ea37c1",
            "4e76251a2ae64d46a44e02687cabadf6",
            "42d0634ceb144a03b536a40bdc6a6a6c",
            "32088a4fe3114817b3e3a65d7d49356b",
            "a0ff7d8b6a184d85ab1095e1b33f5557",
            "9887e4d76d1b4176a69f9b4abf10dd34",
            "5518ce904ce14dab82686c78ec68e5b0"
          ]
        },
        "collapsed": true,
        "id": "eYGCh-NqOZSN",
        "outputId": "62604501-4e18-4146-cb76-39eab53ef2ba"
      },
      "outputs": [
        {
          "name": "stdout",
          "output_type": "stream",
          "text": [
            "\n",
            "👋 Hello! This is openneuro-py 2024.2.0. Great to see you! 🤗\n",
            "\n",
            "   👉 Please report problems 🤯 and bugs 🪲 at\n",
            "      https://github.com/hoechenberger/openneuro-py/issues\n",
            "\n",
            "🌍 Preparing to download ds002778 …\n"
          ]
        },
        {
          "data": {
            "application/vnd.jupyter.widget-view+json": {
              "model_id": "00c40af5c1d54723aa2d0a5e28227d82",
              "version_major": 2,
              "version_minor": 0
            },
            "text/plain": [
              "📁 Traversing directories for ds002778 : 0 entities [00:00, ? entities/s]"
            ]
          },
          "metadata": {},
          "output_type": "display_data"
        },
        {
          "name": "stdout",
          "output_type": "stream",
          "text": [
            "📥 Retrieving up to 19 files (5 concurrent downloads). \n",
            "✅ Finished downloading ds002778.\n",
            " \n",
            "🧠 Please enjoy your brains.\n",
            " \n",
            "Extracting EDF parameters from /tmp/mne/sub-pd6/ses-on/eeg/sub-pd6_ses-on_task-rest_eeg.bdf...\n",
            "BDF file detected\n",
            "Setting channel info structure...\n",
            "Creating raw.info structure...\n",
            "Reading 0 ... 147967  =      0.000 ...   288.998 secs...\n"
          ]
        },
        {
          "data": {
            "application/vnd.jupyter.widget-view+json": {
              "model_id": "286d3133f5f44af988432b4c6c7213fc",
              "version_major": 2,
              "version_minor": 0
            },
            "text/plain": [
              "Skipping participants.tsv: already downloaded.: 100%|##########| 1.62k/1.62k [00:00<?, ?B/s]"
            ]
          },
          "metadata": {},
          "output_type": "display_data"
        },
        {
          "data": {
            "application/vnd.jupyter.widget-view+json": {
              "model_id": "ac2570728cb3426e84546cb90d31b848",
              "version_major": 2,
              "version_minor": 0
            },
            "text/plain": [
              "Skipping participants.json: already downloaded.: 100%|##########| 1.24k/1.24k [00:00<?, ?B/s]"
            ]
          },
          "metadata": {},
          "output_type": "display_data"
        },
        {
          "data": {
            "application/vnd.jupyter.widget-view+json": {
              "model_id": "38adf9e092f6435fb0b46df798f73cfe",
              "version_major": 2,
              "version_minor": 0
            },
            "text/plain": [
              "Skipping sub-pd6_ses-off_task-rest_beh.tsv: already downloaded.: 100%|##########| 10.0/10.0 [00:00<?, ?B/s]"
            ]
          },
          "metadata": {},
          "output_type": "display_data"
        },
        {
          "data": {
            "application/vnd.jupyter.widget-view+json": {
              "model_id": "59bc7b1c9981486bb86e68fe151356ab",
              "version_major": 2,
              "version_minor": 0
            },
            "text/plain": [
              "Skipping sub-pd6_ses-off_scans.tsv: already downloaded.: 100%|##########| 75.0/75.0 [00:00<?, ?B/s]"
            ]
          },
          "metadata": {},
          "output_type": "display_data"
        },
        {
          "data": {
            "application/vnd.jupyter.widget-view+json": {
              "model_id": "813d07b8fb4d4884842b88bfafa15a87",
              "version_major": 2,
              "version_minor": 0
            },
            "text/plain": [
              "Skipping sub-pd6_ses-off_task-rest_channels.tsv: already downloaded.: 100%|##########| 2.22k/2.22k [00:00<?, ?…"
            ]
          },
          "metadata": {},
          "output_type": "display_data"
        },
        {
          "data": {
            "application/vnd.jupyter.widget-view+json": {
              "model_id": "a096b0ac9a59408399fb689938d92ceb",
              "version_major": 2,
              "version_minor": 0
            },
            "text/plain": [
              "Skipping sub-pd6_ses-off_task-rest_eeg.json: already downloaded.: 100%|##########| 471/471 [00:00<?, ?B/s]"
            ]
          },
          "metadata": {},
          "output_type": "display_data"
        },
        {
          "data": {
            "application/vnd.jupyter.widget-view+json": {
              "model_id": "197c035afb50453c8d9e1f8c33c24857",
              "version_major": 2,
              "version_minor": 0
            },
            "text/plain": [
              "Skipping sub-pd6_ses-off_task-rest_eeg.bdf: already downloaded.: 100%|##########| 11.5M/11.5M [00:00<?, ?B/s]"
            ]
          },
          "metadata": {},
          "output_type": "display_data"
        },
        {
          "data": {
            "application/vnd.jupyter.widget-view+json": {
              "model_id": "688a941d84df4d0caa94dfb0ce6d285b",
              "version_major": 2,
              "version_minor": 0
            },
            "text/plain": [
              "Skipping sub-pd6_ses-off_task-rest_events.tsv: already downloaded.: 100%|##########| 66.0/66.0 [00:00<?, ?B/s]"
            ]
          },
          "metadata": {},
          "output_type": "display_data"
        },
        {
          "data": {
            "application/vnd.jupyter.widget-view+json": {
              "model_id": "5d25d7290e0b40d88ef6652666cfd39f",
              "version_major": 2,
              "version_minor": 0
            },
            "text/plain": [
              "Skipping sub-pd6_ses-on_scans.tsv: already downloaded.: 100%|##########| 74.0/74.0 [00:00<?, ?B/s]"
            ]
          },
          "metadata": {},
          "output_type": "display_data"
        },
        {
          "data": {
            "application/vnd.jupyter.widget-view+json": {
              "model_id": "08e8e7bccef64fbc8ea8bfc267e444a7",
              "version_major": 2,
              "version_minor": 0
            },
            "text/plain": [
              "Skipping sub-pd6_ses-on_task-rest_beh.json: already downloaded.: 100%|##########| 433/433 [00:00<?, ?B/s]"
            ]
          },
          "metadata": {},
          "output_type": "display_data"
        },
        {
          "data": {
            "application/vnd.jupyter.widget-view+json": {
              "model_id": "ae96b926bf7a4aa0990fbfc68950a3a6",
              "version_major": 2,
              "version_minor": 0
            },
            "text/plain": [
              "Skipping sub-pd6_ses-on_task-rest_beh.tsv: already downloaded.: 100%|##########| 10.0/10.0 [00:00<?, ?B/s]"
            ]
          },
          "metadata": {},
          "output_type": "display_data"
        },
        {
          "data": {
            "application/vnd.jupyter.widget-view+json": {
              "model_id": "7ec2969a23cc486c803c8cbfdbd0ef5d",
              "version_major": 2,
              "version_minor": 0
            },
            "text/plain": [
              "Skipping sub-pd6_ses-on_task-rest_channels.tsv: already downloaded.: 100%|##########| 2.22k/2.22k [00:00<?, ?B…"
            ]
          },
          "metadata": {},
          "output_type": "display_data"
        },
        {
          "data": {
            "application/vnd.jupyter.widget-view+json": {
              "model_id": "c3d6cbca68ac4941af9199e76ae8355e",
              "version_major": 2,
              "version_minor": 0
            },
            "text/plain": [
              "Skipping sub-pd6_ses-on_task-rest_eeg.json: already downloaded.: 100%|##########| 471/471 [00:00<?, ?B/s]"
            ]
          },
          "metadata": {},
          "output_type": "display_data"
        },
        {
          "data": {
            "application/vnd.jupyter.widget-view+json": {
              "model_id": "2a62bf34583a43a69df755f890e87e09",
              "version_major": 2,
              "version_minor": 0
            },
            "text/plain": [
              "Re-downloading README: file size mismatch.: 0.00B [00:00, ?B/s]"
            ]
          },
          "metadata": {},
          "output_type": "display_data"
        },
        {
          "data": {
            "application/vnd.jupyter.widget-view+json": {
              "model_id": "7377228b96604879a298069235a01781",
              "version_major": 2,
              "version_minor": 0
            },
            "text/plain": [
              "Re-downloading dataset_description.json: file size mismatch.: 0.00B [00:00, ?B/s]"
            ]
          },
          "metadata": {},
          "output_type": "display_data"
        },
        {
          "data": {
            "application/vnd.jupyter.widget-view+json": {
              "model_id": "503d907db920464ab1315990f8661007",
              "version_major": 2,
              "version_minor": 0
            },
            "text/plain": [
              "Skipping sub-pd6_ses-on_task-rest_events.tsv: already downloaded.: 100%|##########| 51.0/51.0 [00:00<?, ?B/s]"
            ]
          },
          "metadata": {},
          "output_type": "display_data"
        },
        {
          "data": {
            "application/vnd.jupyter.widget-view+json": {
              "model_id": "d375351bccbd4da0b0d988eae8683a37",
              "version_major": 2,
              "version_minor": 0
            },
            "text/plain": [
              "Skipping sub-pd6_ses-on_task-rest_eeg.bdf: already downloaded.: 100%|##########| 17.4M/17.4M [00:00<?, ?B/s]"
            ]
          },
          "metadata": {},
          "output_type": "display_data"
        },
        {
          "data": {
            "application/vnd.jupyter.widget-view+json": {
              "model_id": "29a6b70de72040f58897e628e1857fb6",
              "version_major": 2,
              "version_minor": 0
            },
            "text/plain": [
              "Re-downloading CHANGES: file size mismatch.: 0.00B [00:00, ?B/s]"
            ]
          },
          "metadata": {},
          "output_type": "display_data"
        },
        {
          "data": {
            "application/vnd.jupyter.widget-view+json": {
              "model_id": "68ad71f1a3ff4280afe0c80c819b4ba9",
              "version_major": 2,
              "version_minor": 0
            },
            "text/plain": [
              "Re-downloading sub-pd6_ses-off_task-rest_beh.json: file size mismatch.: 0.00B [00:00, ?B/s]"
            ]
          },
          "metadata": {},
          "output_type": "display_data"
        }
      ],
      "source": [
        "def fetch_raw(subject, session):\n",
        "\n",
        "    openneuro.download(dataset=ONDataset.dataset, target_dir=ONDataset.bids_root, include=[f\"sub-{subject}\"])\n",
        "    bids_path = mne_bids.BIDSPath(root=ONDataset.bids_root,\n",
        "                         task=ONDataset.task, suffix=ONDataset.suffix,\n",
        "                         datatype=ONDataset.datatype, session=session,\n",
        "                         subject=subject )\n",
        "\n",
        "    raw = mne.io.read_raw_bdf(bids_path, verbose=verbose, preload=True)\n",
        "\n",
        "    return raw\n",
        "\n",
        "raw_on = fetch_raw(subject, 'on')"
      ]
    },
    {
      "cell_type": "code",
      "execution_count": 14,
      "metadata": {
        "colab": {
          "base_uri": "https://localhost:8080/"
        },
        "collapsed": true,
        "id": "W-4zAQ42O1hv",
        "outputId": "b661864a-44a3-496a-c059-2caada71b33f"
      },
      "outputs": [
        {
          "name": "stdout",
          "output_type": "stream",
          "text": [
            "<Info | 8 non-empty values\n",
            " bads: []\n",
            " ch_names: Fp1, AF3, F7, F3, FC1, FC5, T7, C3, CP1, CP5, P7, P3, Pz, PO3, ...\n",
            " chs: 40 EEG, 1 Stimulus\n",
            " custom_ref_applied: False\n",
            " highpass: 0.0 Hz\n",
            " lowpass: 256.0 Hz\n",
            " meas_date: 2020-04-22 23:50:12 UTC\n",
            " nchan: 41\n",
            " projs: []\n",
            " sfreq: 512.0 Hz\n",
            " subject_info: 4 items (dict)\n",
            ">\n",
            "{'his_id': 'X', 'sex': 0, 'last_name': 'Anonymous', 'birthday': (1951, 5, 13)}\n"
          ]
        }
      ],
      "source": [
        "print(raw_on.info)\n",
        "print(raw_on.info[\"subject_info\"])"
      ]
    },
    {
      "cell_type": "code",
      "execution_count": 15,
      "metadata": {
        "colab": {
          "base_uri": "https://localhost:8080/",
          "height": 353
        },
        "id": "kjCtAA42ROl7",
        "outputId": "02c99c2f-2a34-4241-fc4d-8618063cd80c"
      },
      "outputs": [
        {
          "data": {
            "text/html": [
              "<details open>\n",
              "    <summary><strong>General</strong></summary>\n",
              "    <table class=\"table table-hover table-striped table-sm table-responsive small\">\n",
              "        <tr>\n",
              "            <th>Measurement date</th>\n",
              "            \n",
              "            <td>April 22, 2020  23:50:12 GMT</td>\n",
              "            \n",
              "        </tr>\n",
              "        <tr>\n",
              "            <th>Experimenter</th>\n",
              "            \n",
              "            <td>Unknown</td>\n",
              "            \n",
              "        </tr>\n",
              "        <tr>\n",
              "            <th>Participant</th>\n",
              "            \n",
              "            \n",
              "            <td>X</td>\n",
              "            \n",
              "            \n",
              "        </tr>\n",
              "    </table>\n",
              "    </details>\n",
              "    <details open>\n",
              "        <summary><strong>Channels</strong></summary>\n",
              "        <table class=\"table table-hover table-striped table-sm table-responsive small\">\n",
              "            <tr>\n",
              "                <th>Digitized points</th>\n",
              "                \n",
              "                <td>Not available</td>\n",
              "                \n",
              "            </tr>\n",
              "            <tr>\n",
              "                <th>Good channels</th>\n",
              "                <td>32 EEG</td>\n",
              "            </tr>\n",
              "            <tr>\n",
              "                <th>Bad channels</th>\n",
              "                <td>None</td>\n",
              "            </tr>\n",
              "            <tr>\n",
              "                <th>EOG channels</th>\n",
              "                <td>Not available</td>\n",
              "            </tr>\n",
              "            <tr>\n",
              "                <th>ECG channels</th>\n",
              "                <td>Not available</td>\n",
              "            </tr>\n",
              "        </table>\n",
              "        </details>\n",
              "        <details open>\n",
              "            <summary><strong>Data</strong></summary>\n",
              "            <table class=\"table table-hover table-striped table-sm table-responsive small\">\n",
              "                \n",
              "                <tr>\n",
              "                    <th>Sampling frequency</th>\n",
              "                    <td>512.00 Hz</td>\n",
              "                </tr>\n",
              "                \n",
              "                \n",
              "                <tr>\n",
              "                    <th>Highpass</th>\n",
              "                    <td>0.00 Hz</td>\n",
              "                </tr>\n",
              "                \n",
              "                \n",
              "                <tr>\n",
              "                    <th>Lowpass</th>\n",
              "                    <td>256.00 Hz</td>\n",
              "                </tr>\n",
              "                \n",
              "                \n",
              "                \n",
              "                <tr>\n",
              "                    <th>Filenames</th>\n",
              "                    <td>sub-pd6_ses-on_task-rest_eeg.bdf</td>\n",
              "                </tr>\n",
              "                \n",
              "                \n",
              "                <tr>\n",
              "                    <th>Duration</th>\n",
              "                    <td>00:04:49 (HH:MM:SS)</td>\n",
              "                </tr>\n",
              "                \n",
              "            </table>\n",
              "            </details>"
            ],
            "text/plain": [
              "<RawEDF | sub-pd6_ses-on_task-rest_eeg.bdf, 32 x 147968 (289.0 s), ~36.2 MB, data loaded>"
            ]
          },
          "execution_count": 15,
          "metadata": {},
          "output_type": "execute_result"
        }
      ],
      "source": [
        "raw_on.drop_channels(['EXG1', 'EXG2', 'EXG3', 'EXG4','EXG5', 'EXG6', 'EXG7', 'EXG8', 'Status'])"
      ]
    },
    {
      "cell_type": "code",
      "execution_count": 16,
      "metadata": {
        "colab": {
          "base_uri": "https://localhost:8080/",
          "height": 353
        },
        "id": "laLfsVOyR8wj",
        "outputId": "c3b4fb81-7c18-44ba-c2a3-cd88b05b97bb"
      },
      "outputs": [
        {
          "data": {
            "text/html": [
              "<details open>\n",
              "    <summary><strong>General</strong></summary>\n",
              "    <table class=\"table table-hover table-striped table-sm table-responsive small\">\n",
              "        <tr>\n",
              "            <th>Measurement date</th>\n",
              "            \n",
              "            <td>April 22, 2020  23:50:12 GMT</td>\n",
              "            \n",
              "        </tr>\n",
              "        <tr>\n",
              "            <th>Experimenter</th>\n",
              "            \n",
              "            <td>Unknown</td>\n",
              "            \n",
              "        </tr>\n",
              "        <tr>\n",
              "            <th>Participant</th>\n",
              "            \n",
              "            \n",
              "            <td>X</td>\n",
              "            \n",
              "            \n",
              "        </tr>\n",
              "    </table>\n",
              "    </details>\n",
              "    <details open>\n",
              "        <summary><strong>Channels</strong></summary>\n",
              "        <table class=\"table table-hover table-striped table-sm table-responsive small\">\n",
              "            <tr>\n",
              "                <th>Digitized points</th>\n",
              "                \n",
              "                <td>35 points</td>\n",
              "                \n",
              "            </tr>\n",
              "            <tr>\n",
              "                <th>Good channels</th>\n",
              "                <td>32 EEG</td>\n",
              "            </tr>\n",
              "            <tr>\n",
              "                <th>Bad channels</th>\n",
              "                <td>None</td>\n",
              "            </tr>\n",
              "            <tr>\n",
              "                <th>EOG channels</th>\n",
              "                <td>Not available</td>\n",
              "            </tr>\n",
              "            <tr>\n",
              "                <th>ECG channels</th>\n",
              "                <td>Not available</td>\n",
              "            </tr>\n",
              "        </table>\n",
              "        </details>\n",
              "        <details open>\n",
              "            <summary><strong>Data</strong></summary>\n",
              "            <table class=\"table table-hover table-striped table-sm table-responsive small\">\n",
              "                \n",
              "                <tr>\n",
              "                    <th>Sampling frequency</th>\n",
              "                    <td>512.00 Hz</td>\n",
              "                </tr>\n",
              "                \n",
              "                \n",
              "                <tr>\n",
              "                    <th>Highpass</th>\n",
              "                    <td>0.00 Hz</td>\n",
              "                </tr>\n",
              "                \n",
              "                \n",
              "                <tr>\n",
              "                    <th>Lowpass</th>\n",
              "                    <td>256.00 Hz</td>\n",
              "                </tr>\n",
              "                \n",
              "                \n",
              "                \n",
              "                <tr>\n",
              "                    <th>Filenames</th>\n",
              "                    <td>sub-pd6_ses-on_task-rest_eeg.bdf</td>\n",
              "                </tr>\n",
              "                \n",
              "                \n",
              "                <tr>\n",
              "                    <th>Duration</th>\n",
              "                    <td>00:04:49 (HH:MM:SS)</td>\n",
              "                </tr>\n",
              "                \n",
              "            </table>\n",
              "            </details>"
            ],
            "text/plain": [
              "<RawEDF | sub-pd6_ses-on_task-rest_eeg.bdf, 32 x 147968 (289.0 s), ~36.2 MB, data loaded>"
            ]
          },
          "execution_count": 16,
          "metadata": {},
          "output_type": "execute_result"
        }
      ],
      "source": [
        "raw_on.set_montage(\"biosemi32\", verbose=verbose)"
      ]
    },
    {
      "cell_type": "code",
      "execution_count": 17,
      "metadata": {
        "colab": {
          "base_uri": "https://localhost:8080/",
          "height": 353
        },
        "id": "9mh3zhUtSGcf",
        "outputId": "269bf5a5-f5ee-4f91-bc5c-cf0265b1fe29"
      },
      "outputs": [
        {
          "name": "stdout",
          "output_type": "stream",
          "text": [
            "EEG channel type selected for re-referencing\n",
            "Applying average reference.\n",
            "Applying a custom ('EEG',) reference.\n"
          ]
        },
        {
          "data": {
            "text/html": [
              "<details open>\n",
              "    <summary><strong>General</strong></summary>\n",
              "    <table class=\"table table-hover table-striped table-sm table-responsive small\">\n",
              "        <tr>\n",
              "            <th>Measurement date</th>\n",
              "            \n",
              "            <td>April 22, 2020  23:50:12 GMT</td>\n",
              "            \n",
              "        </tr>\n",
              "        <tr>\n",
              "            <th>Experimenter</th>\n",
              "            \n",
              "            <td>Unknown</td>\n",
              "            \n",
              "        </tr>\n",
              "        <tr>\n",
              "            <th>Participant</th>\n",
              "            \n",
              "            \n",
              "            <td>X</td>\n",
              "            \n",
              "            \n",
              "        </tr>\n",
              "    </table>\n",
              "    </details>\n",
              "    <details open>\n",
              "        <summary><strong>Channels</strong></summary>\n",
              "        <table class=\"table table-hover table-striped table-sm table-responsive small\">\n",
              "            <tr>\n",
              "                <th>Digitized points</th>\n",
              "                \n",
              "                <td>35 points</td>\n",
              "                \n",
              "            </tr>\n",
              "            <tr>\n",
              "                <th>Good channels</th>\n",
              "                <td>32 EEG</td>\n",
              "            </tr>\n",
              "            <tr>\n",
              "                <th>Bad channels</th>\n",
              "                <td>None</td>\n",
              "            </tr>\n",
              "            <tr>\n",
              "                <th>EOG channels</th>\n",
              "                <td>Not available</td>\n",
              "            </tr>\n",
              "            <tr>\n",
              "                <th>ECG channels</th>\n",
              "                <td>Not available</td>\n",
              "            </tr>\n",
              "        </table>\n",
              "        </details>\n",
              "        <details open>\n",
              "            <summary><strong>Data</strong></summary>\n",
              "            <table class=\"table table-hover table-striped table-sm table-responsive small\">\n",
              "                \n",
              "                <tr>\n",
              "                    <th>Sampling frequency</th>\n",
              "                    <td>512.00 Hz</td>\n",
              "                </tr>\n",
              "                \n",
              "                \n",
              "                <tr>\n",
              "                    <th>Highpass</th>\n",
              "                    <td>0.00 Hz</td>\n",
              "                </tr>\n",
              "                \n",
              "                \n",
              "                <tr>\n",
              "                    <th>Lowpass</th>\n",
              "                    <td>256.00 Hz</td>\n",
              "                </tr>\n",
              "                \n",
              "                \n",
              "                \n",
              "                <tr>\n",
              "                    <th>Filenames</th>\n",
              "                    <td>sub-pd6_ses-on_task-rest_eeg.bdf</td>\n",
              "                </tr>\n",
              "                \n",
              "                \n",
              "                <tr>\n",
              "                    <th>Duration</th>\n",
              "                    <td>00:04:49 (HH:MM:SS)</td>\n",
              "                </tr>\n",
              "                \n",
              "            </table>\n",
              "            </details>"
            ],
            "text/plain": [
              "<RawEDF | sub-pd6_ses-on_task-rest_eeg.bdf, 32 x 147968 (289.0 s), ~36.2 MB, data loaded>"
            ]
          },
          "execution_count": 17,
          "metadata": {},
          "output_type": "execute_result"
        }
      ],
      "source": [
        "raw_on.set_eeg_reference(ref_channels='average',verbose=verbose)"
      ]
    },
    {
      "cell_type": "code",
      "execution_count": 18,
      "metadata": {
        "colab": {
          "base_uri": "https://localhost:8080/",
          "height": 353
        },
        "id": "K8rSbblCSNmP",
        "outputId": "d57e33ac-652e-4311-83f5-350c78113bc3"
      },
      "outputs": [
        {
          "name": "stdout",
          "output_type": "stream",
          "text": [
            "Filtering raw data in 1 contiguous segment\n",
            "Setting up high-pass filter at 0.5 Hz\n",
            "\n",
            "FIR filter parameters\n",
            "---------------------\n",
            "Designing a two-pass forward and reverse, zero-phase, non-causal highpass filter:\n",
            "- Windowed time-domain design (firwin) method\n",
            "- Hamming window with 0.0194 passband ripple and 53 dB stopband attenuation\n",
            "- Lower passband edge: 0.50\n",
            "- Lower transition bandwidth: 0.50 Hz (-12 dB cutoff frequency: 0.25 Hz)\n",
            "- Filter length: 3381 samples (6.604 s)\n",
            "\n"
          ]
        },
        {
          "name": "stderr",
          "output_type": "stream",
          "text": [
            "[Parallel(n_jobs=1)]: Done  17 tasks      | elapsed:    0.1s\n"
          ]
        },
        {
          "data": {
            "text/html": [
              "<details open>\n",
              "    <summary><strong>General</strong></summary>\n",
              "    <table class=\"table table-hover table-striped table-sm table-responsive small\">\n",
              "        <tr>\n",
              "            <th>Measurement date</th>\n",
              "            \n",
              "            <td>April 22, 2020  23:50:12 GMT</td>\n",
              "            \n",
              "        </tr>\n",
              "        <tr>\n",
              "            <th>Experimenter</th>\n",
              "            \n",
              "            <td>Unknown</td>\n",
              "            \n",
              "        </tr>\n",
              "        <tr>\n",
              "            <th>Participant</th>\n",
              "            \n",
              "            \n",
              "            <td>X</td>\n",
              "            \n",
              "            \n",
              "        </tr>\n",
              "    </table>\n",
              "    </details>\n",
              "    <details open>\n",
              "        <summary><strong>Channels</strong></summary>\n",
              "        <table class=\"table table-hover table-striped table-sm table-responsive small\">\n",
              "            <tr>\n",
              "                <th>Digitized points</th>\n",
              "                \n",
              "                <td>35 points</td>\n",
              "                \n",
              "            </tr>\n",
              "            <tr>\n",
              "                <th>Good channels</th>\n",
              "                <td>32 EEG</td>\n",
              "            </tr>\n",
              "            <tr>\n",
              "                <th>Bad channels</th>\n",
              "                <td>None</td>\n",
              "            </tr>\n",
              "            <tr>\n",
              "                <th>EOG channels</th>\n",
              "                <td>Not available</td>\n",
              "            </tr>\n",
              "            <tr>\n",
              "                <th>ECG channels</th>\n",
              "                <td>Not available</td>\n",
              "            </tr>\n",
              "        </table>\n",
              "        </details>\n",
              "        <details open>\n",
              "            <summary><strong>Data</strong></summary>\n",
              "            <table class=\"table table-hover table-striped table-sm table-responsive small\">\n",
              "                \n",
              "                <tr>\n",
              "                    <th>Sampling frequency</th>\n",
              "                    <td>512.00 Hz</td>\n",
              "                </tr>\n",
              "                \n",
              "                \n",
              "                <tr>\n",
              "                    <th>Highpass</th>\n",
              "                    <td>0.50 Hz</td>\n",
              "                </tr>\n",
              "                \n",
              "                \n",
              "                <tr>\n",
              "                    <th>Lowpass</th>\n",
              "                    <td>256.00 Hz</td>\n",
              "                </tr>\n",
              "                \n",
              "                \n",
              "                \n",
              "                <tr>\n",
              "                    <th>Filenames</th>\n",
              "                    <td>sub-pd6_ses-on_task-rest_eeg.bdf</td>\n",
              "                </tr>\n",
              "                \n",
              "                \n",
              "                <tr>\n",
              "                    <th>Duration</th>\n",
              "                    <td>00:04:49 (HH:MM:SS)</td>\n",
              "                </tr>\n",
              "                \n",
              "            </table>\n",
              "            </details>"
            ],
            "text/plain": [
              "<RawEDF | sub-pd6_ses-on_task-rest_eeg.bdf, 32 x 147968 (289.0 s), ~36.2 MB, data loaded>"
            ]
          },
          "execution_count": 18,
          "metadata": {},
          "output_type": "execute_result"
        }
      ],
      "source": [
        "raw_on.filter(0.5, None, fir_design='firwin', phase='zero-double', verbose=verbose)"
      ]
    },
    {
      "cell_type": "code",
      "execution_count": 19,
      "metadata": {
        "id": "gEMIQchlSTjR"
      },
      "outputs": [
        {
          "name": "stdout",
          "output_type": "stream",
          "text": [
            "Not setting metadata\n",
            "96 matching events found\n",
            "No baseline correction applied\n",
            "0 projection items activated\n",
            "Using data from preloaded Raw for 96 events and 1536 original time points ...\n",
            "0 bad epochs dropped\n"
          ]
        }
      ],
      "source": [
        "epochs_all_on = mne.make_fixed_length_epochs(raw_on, duration=3, preload=True, verbose=verbose)"
      ]
    },
    {
      "cell_type": "code",
      "execution_count": 20,
      "metadata": {
        "colab": {
          "base_uri": "https://localhost:8080/"
        },
        "id": "gp5p86D0SgpJ",
        "outputId": "84d6633f-5e14-4615-a3aa-fbf189a1d802"
      },
      "outputs": [
        {
          "name": "stdout",
          "output_type": "stream",
          "text": [
            "Running autoreject on ch_type=eeg\n"
          ]
        },
        {
          "data": {
            "application/vnd.jupyter.widget-view+json": {
              "model_id": "07a4e1022fbc4030a0600941ec6132fd",
              "version_major": 2,
              "version_minor": 0
            },
            "text/plain": [
              "  0%|          | Creating augmented epochs : 0/32 [00:00<?,       ?it/s]"
            ]
          },
          "metadata": {},
          "output_type": "display_data"
        },
        {
          "data": {
            "application/vnd.jupyter.widget-view+json": {
              "model_id": "445165471236481ebb1249cf1f431ddd",
              "version_major": 2,
              "version_minor": 0
            },
            "text/plain": [
              "  0%|          | Computing thresholds ... : 0/32 [00:00<?,       ?it/s]"
            ]
          },
          "metadata": {},
          "output_type": "display_data"
        },
        {
          "data": {
            "application/vnd.jupyter.widget-view+json": {
              "model_id": "76038c30a06a41fcb76244a30033c179",
              "version_major": 2,
              "version_minor": 0
            },
            "text/plain": [
              "  0%|          | Repairing epochs : 0/96 [00:00<?,       ?it/s]"
            ]
          },
          "metadata": {},
          "output_type": "display_data"
        },
        {
          "data": {
            "application/vnd.jupyter.widget-view+json": {
              "model_id": "c7cd8b480e2d49e48563ec34b93b9342",
              "version_major": 2,
              "version_minor": 0
            },
            "text/plain": [
              "  0%|          | n_interp : 0/4 [00:00<?,       ?it/s]"
            ]
          },
          "metadata": {},
          "output_type": "display_data"
        },
        {
          "data": {
            "application/vnd.jupyter.widget-view+json": {
              "model_id": "78189cfcdea3440ebccbf8bf6a4882e8",
              "version_major": 2,
              "version_minor": 0
            },
            "text/plain": [
              "  0%|          | Repairing epochs : 0/96 [00:00<?,       ?it/s]"
            ]
          },
          "metadata": {},
          "output_type": "display_data"
        },
        {
          "data": {
            "application/vnd.jupyter.widget-view+json": {
              "model_id": "4338c49221114a09908638cee67c96a2",
              "version_major": 2,
              "version_minor": 0
            },
            "text/plain": [
              "  0%|          | Fold : 0/10 [00:00<?,       ?it/s]"
            ]
          },
          "metadata": {},
          "output_type": "display_data"
        },
        {
          "data": {
            "application/vnd.jupyter.widget-view+json": {
              "model_id": "456023b33f6b406ca49ec00273cdf8b3",
              "version_major": 2,
              "version_minor": 0
            },
            "text/plain": [
              "  0%|          | Repairing epochs : 0/96 [00:00<?,       ?it/s]"
            ]
          },
          "metadata": {},
          "output_type": "display_data"
        },
        {
          "data": {
            "application/vnd.jupyter.widget-view+json": {
              "model_id": "33c69099ba5642bdaca9bef5f35531d6",
              "version_major": 2,
              "version_minor": 0
            },
            "text/plain": [
              "  0%|          | Fold : 0/10 [00:00<?,       ?it/s]"
            ]
          },
          "metadata": {},
          "output_type": "display_data"
        },
        {
          "data": {
            "application/vnd.jupyter.widget-view+json": {
              "model_id": "9f1a01ff1ede48b3a952fa9eb57fc540",
              "version_major": 2,
              "version_minor": 0
            },
            "text/plain": [
              "  0%|          | Repairing epochs : 0/96 [00:00<?,       ?it/s]"
            ]
          },
          "metadata": {},
          "output_type": "display_data"
        },
        {
          "data": {
            "application/vnd.jupyter.widget-view+json": {
              "model_id": "221fd32024ad42d6a852bbf24d88e135",
              "version_major": 2,
              "version_minor": 0
            },
            "text/plain": [
              "  0%|          | Fold : 0/10 [00:00<?,       ?it/s]"
            ]
          },
          "metadata": {},
          "output_type": "display_data"
        },
        {
          "data": {
            "application/vnd.jupyter.widget-view+json": {
              "model_id": "38361ac3159f4240bbbbe0384acfb369",
              "version_major": 2,
              "version_minor": 0
            },
            "text/plain": [
              "  0%|          | Repairing epochs : 0/96 [00:00<?,       ?it/s]"
            ]
          },
          "metadata": {},
          "output_type": "display_data"
        },
        {
          "data": {
            "application/vnd.jupyter.widget-view+json": {
              "model_id": "d146f5c4c4a44faab3e8d2ec3714df02",
              "version_major": 2,
              "version_minor": 0
            },
            "text/plain": [
              "  0%|          | Fold : 0/10 [00:00<?,       ?it/s]"
            ]
          },
          "metadata": {},
          "output_type": "display_data"
        },
        {
          "name": "stdout",
          "output_type": "stream",
          "text": [
            "\n",
            "\n",
            "\n",
            "\n",
            "Estimated consensus=0.70 and n_interpolate=4\n"
          ]
        },
        {
          "data": {
            "application/vnd.jupyter.widget-view+json": {
              "model_id": "f8e6b79a02fb4fa98ed7c3c882ba02bf",
              "version_major": 2,
              "version_minor": 0
            },
            "text/plain": [
              "  0%|          | Repairing epochs : 0/96 [00:00<?,       ?it/s]"
            ]
          },
          "metadata": {},
          "output_type": "display_data"
        },
        {
          "name": "stdout",
          "output_type": "stream",
          "text": [
            "Dropped 13 epochs: 0, 2, 10, 11, 12, 14, 15, 16, 25, 27, 28, 93, 94\n"
          ]
        }
      ],
      "source": [
        "ar = autoreject.AutoReject(n_interpolate=[1, 2, 3, 4], random_state=11, verbose=verbose)\n",
        "ar.fit(epochs_all_on)\n",
        "epochs_on = ar.transform(epochs_all_on)"
      ]
    },
    {
      "cell_type": "code",
      "execution_count": 21,
      "metadata": {
        "id": "MshRJapmToY_"
      },
      "outputs": [],
      "source": [
        "pacs_on = np.repeat(PACSettings.create_Comodulogram(raw_on.info['sfreq']), 3)"
      ]
    },
    {
      "cell_type": "code",
      "execution_count": 22,
      "metadata": {
        "id": "Ns86_oXCTxJt"
      },
      "outputs": [
        {
          "name": "stdout",
          "output_type": "stream",
          "text": [
            "[........................................] 100% | 14.19 sec | comodulogram: DAR(10, 1) \n",
            "[........................................] 100% | 14.77 sec | comodulogram: DAR(10, 1) "
          ]
        },
        {
          "data": {
            "text/plain": [
              "<pactools.comodulogram.Comodulogram at 0x70e71c129a50>"
            ]
          },
          "execution_count": 22,
          "metadata": {},
          "output_type": "execute_result"
        }
      ],
      "source": [
        "pacs_on[0].fit(epochs_on.get_data(picks=['C3'])[:,0,:])"
      ]
    },
    {
      "cell_type": "code",
      "execution_count": 23,
      "metadata": {
        "id": "XIBSfEmuVhgi"
      },
      "outputs": [
        {
          "name": "stdout",
          "output_type": "stream",
          "text": [
            "[........................................] 100% | 8.38 sec | comodulogram: DAR(10, 1) \n",
            "[........................................] 100% | 8.96 sec | comodulogram: DAR(10, 1) "
          ]
        },
        {
          "data": {
            "text/plain": [
              "<pactools.comodulogram.Comodulogram at 0x70e71c129a50>"
            ]
          },
          "execution_count": 23,
          "metadata": {},
          "output_type": "execute_result"
        }
      ],
      "source": [
        "pacs_on[1].fit(epochs_on.get_data(picks=['C4'])[:,0,:])"
      ]
    },
    {
      "cell_type": "code",
      "execution_count": 24,
      "metadata": {
        "id": "-r37t6nuVlHT"
      },
      "outputs": [],
      "source": [
        "pacs_on[2].comod_ = np.mean([pacs_on[0].comod_, pacs_on[1].comod_],axis=0)"
      ]
    },
    {
      "cell_type": "code",
      "execution_count": 25,
      "metadata": {},
      "outputs": [
        {
          "name": "stdout",
          "output_type": "stream",
          "text": [
            "\n",
            "👋 Hello! This is openneuro-py 2024.2.0. Great to see you! 🤗\n",
            "\n",
            "   👉 Please report problems 🤯 and bugs 🪲 at\n",
            "      https://github.com/hoechenberger/openneuro-py/issues\n",
            "\n",
            "🌍 Preparing to download ds002778 …\n"
          ]
        },
        {
          "data": {
            "application/vnd.jupyter.widget-view+json": {
              "model_id": "a9d457689a514fdba3a0dc422b0b4641",
              "version_major": 2,
              "version_minor": 0
            },
            "text/plain": [
              "📁 Traversing directories for ds002778 : 0 entities [00:00, ? entities/s]"
            ]
          },
          "metadata": {},
          "output_type": "display_data"
        },
        {
          "name": "stdout",
          "output_type": "stream",
          "text": [
            "📥 Retrieving up to 19 files (5 concurrent downloads). \n",
            "✅ Finished downloading ds002778.\n",
            " \n",
            "🧠 Please enjoy your brains.\n",
            " \n",
            "Extracting EDF parameters from /tmp/mne/sub-pd6/ses-off/eeg/sub-pd6_ses-off_task-rest_eeg.bdf...\n",
            "BDF file detected\n",
            "Setting channel info structure...\n",
            "Creating raw.info structure...\n",
            "Reading 0 ... 97791  =      0.000 ...   190.998 secs...\n",
            "EEG channel type selected for re-referencing\n",
            "Applying average reference.\n",
            "Applying a custom ('EEG',) reference.\n",
            "Filtering raw data in 1 contiguous segment\n",
            "Setting up high-pass filter at 0.5 Hz\n",
            "\n",
            "FIR filter parameters\n",
            "---------------------\n",
            "Designing a two-pass forward and reverse, zero-phase, non-causal highpass filter:\n",
            "- Windowed time-domain design (firwin) method\n",
            "- Hamming window with 0.0194 passband ripple and 53 dB stopband attenuation\n",
            "- Lower passband edge: 0.50\n",
            "- Lower transition bandwidth: 0.50 Hz (-12 dB cutoff frequency: 0.25 Hz)\n",
            "- Filter length: 3381 samples (6.604 s)\n",
            "\n",
            "Not setting metadata\n",
            "63 matching events found\n",
            "No baseline correction applied\n",
            "0 projection items activated\n",
            "Using data from preloaded Raw for 63 events and 1536 original time points ...\n",
            "0 bad epochs dropped\n",
            "Running autoreject on ch_type=eeg\n"
          ]
        },
        {
          "name": "stderr",
          "output_type": "stream",
          "text": [
            "[Parallel(n_jobs=1)]: Done  17 tasks      | elapsed:    0.0s\n"
          ]
        },
        {
          "data": {
            "application/vnd.jupyter.widget-view+json": {
              "model_id": "757dc77d8523450fb82cda1146b9eadb",
              "version_major": 2,
              "version_minor": 0
            },
            "text/plain": [
              "  0%|          | Creating augmented epochs : 0/32 [00:00<?,       ?it/s]"
            ]
          },
          "metadata": {},
          "output_type": "display_data"
        },
        {
          "data": {
            "application/vnd.jupyter.widget-view+json": {
              "model_id": "a10e57b422f44d2da1578c84683f627e",
              "version_major": 2,
              "version_minor": 0
            },
            "text/plain": [
              "  0%|          | Computing thresholds ... : 0/32 [00:00<?,       ?it/s]"
            ]
          },
          "metadata": {},
          "output_type": "display_data"
        },
        {
          "data": {
            "application/vnd.jupyter.widget-view+json": {
              "model_id": "0194fb9b13814f6db9246ea4a9709989",
              "version_major": 2,
              "version_minor": 0
            },
            "text/plain": [
              "  0%|          | Repairing epochs : 0/63 [00:00<?,       ?it/s]"
            ]
          },
          "metadata": {},
          "output_type": "display_data"
        },
        {
          "data": {
            "application/vnd.jupyter.widget-view+json": {
              "model_id": "b9436bb122c64e3ca8228f7af14333bd",
              "version_major": 2,
              "version_minor": 0
            },
            "text/plain": [
              "  0%|          | n_interp : 0/4 [00:00<?,       ?it/s]"
            ]
          },
          "metadata": {},
          "output_type": "display_data"
        },
        {
          "data": {
            "application/vnd.jupyter.widget-view+json": {
              "model_id": "1271fa97c08d4850b24d280a23f652ef",
              "version_major": 2,
              "version_minor": 0
            },
            "text/plain": [
              "  0%|          | Repairing epochs : 0/63 [00:00<?,       ?it/s]"
            ]
          },
          "metadata": {},
          "output_type": "display_data"
        },
        {
          "data": {
            "application/vnd.jupyter.widget-view+json": {
              "model_id": "00aff9c68e934387a76089c7b4a6f543",
              "version_major": 2,
              "version_minor": 0
            },
            "text/plain": [
              "  0%|          | Fold : 0/10 [00:00<?,       ?it/s]"
            ]
          },
          "metadata": {},
          "output_type": "display_data"
        },
        {
          "data": {
            "application/vnd.jupyter.widget-view+json": {
              "model_id": "4c7cf1e83ace4d489c4899548baa4d15",
              "version_major": 2,
              "version_minor": 0
            },
            "text/plain": [
              "  0%|          | Repairing epochs : 0/63 [00:00<?,       ?it/s]"
            ]
          },
          "metadata": {},
          "output_type": "display_data"
        },
        {
          "data": {
            "application/vnd.jupyter.widget-view+json": {
              "model_id": "160bbf06726748b8aec2ec55acc1b9bd",
              "version_major": 2,
              "version_minor": 0
            },
            "text/plain": [
              "  0%|          | Fold : 0/10 [00:00<?,       ?it/s]"
            ]
          },
          "metadata": {},
          "output_type": "display_data"
        },
        {
          "data": {
            "application/vnd.jupyter.widget-view+json": {
              "model_id": "28c1dc04f1c74169859a5806f79618f8",
              "version_major": 2,
              "version_minor": 0
            },
            "text/plain": [
              "  0%|          | Repairing epochs : 0/63 [00:00<?,       ?it/s]"
            ]
          },
          "metadata": {},
          "output_type": "display_data"
        },
        {
          "data": {
            "application/vnd.jupyter.widget-view+json": {
              "model_id": "b74104e388b14cffb07ac0f09fe699c9",
              "version_major": 2,
              "version_minor": 0
            },
            "text/plain": [
              "  0%|          | Fold : 0/10 [00:00<?,       ?it/s]"
            ]
          },
          "metadata": {},
          "output_type": "display_data"
        },
        {
          "data": {
            "application/vnd.jupyter.widget-view+json": {
              "model_id": "2269bdc186b64a7b9fa79984c79f9674",
              "version_major": 2,
              "version_minor": 0
            },
            "text/plain": [
              "  0%|          | Repairing epochs : 0/63 [00:00<?,       ?it/s]"
            ]
          },
          "metadata": {},
          "output_type": "display_data"
        },
        {
          "data": {
            "application/vnd.jupyter.widget-view+json": {
              "model_id": "de0d41289aeb4730b55fa69a2ed2bad6",
              "version_major": 2,
              "version_minor": 0
            },
            "text/plain": [
              "  0%|          | Fold : 0/10 [00:00<?,       ?it/s]"
            ]
          },
          "metadata": {},
          "output_type": "display_data"
        },
        {
          "name": "stdout",
          "output_type": "stream",
          "text": [
            "\n",
            "\n",
            "\n",
            "\n",
            "Estimated consensus=0.50 and n_interpolate=4\n"
          ]
        },
        {
          "data": {
            "application/vnd.jupyter.widget-view+json": {
              "model_id": "b6f87d8ee03d4643a1cc7c905245e07e",
              "version_major": 2,
              "version_minor": 0
            },
            "text/plain": [
              "  0%|          | Repairing epochs : 0/63 [00:00<?,       ?it/s]"
            ]
          },
          "metadata": {},
          "output_type": "display_data"
        },
        {
          "name": "stdout",
          "output_type": "stream",
          "text": [
            "Dropped 4 epochs: 0, 12, 31, 34\n"
          ]
        },
        {
          "data": {
            "application/vnd.jupyter.widget-view+json": {
              "model_id": "1515d3f3092541888ba313ddf5d27a43",
              "version_major": 2,
              "version_minor": 0
            },
            "text/plain": [
              "Skipping participants.tsv: already downloaded.: 100%|##########| 1.62k/1.62k [00:00<?, ?B/s]"
            ]
          },
          "metadata": {},
          "output_type": "display_data"
        },
        {
          "data": {
            "application/vnd.jupyter.widget-view+json": {
              "model_id": "985d48965cc84bda83888129d85d3358",
              "version_major": 2,
              "version_minor": 0
            },
            "text/plain": [
              "Skipping participants.json: already downloaded.: 100%|##########| 1.24k/1.24k [00:00<?, ?B/s]"
            ]
          },
          "metadata": {},
          "output_type": "display_data"
        },
        {
          "data": {
            "application/vnd.jupyter.widget-view+json": {
              "model_id": "924f461e1dc34c6b9627d3542e26b21a",
              "version_major": 2,
              "version_minor": 0
            },
            "text/plain": [
              "Skipping sub-pd6_ses-off_task-rest_beh.tsv: already downloaded.: 100%|##########| 10.0/10.0 [00:00<?, ?B/s]"
            ]
          },
          "metadata": {},
          "output_type": "display_data"
        },
        {
          "data": {
            "application/vnd.jupyter.widget-view+json": {
              "model_id": "e530ae8f71404c50a453640a874f9335",
              "version_major": 2,
              "version_minor": 0
            },
            "text/plain": [
              "Skipping sub-pd6_ses-off_scans.tsv: already downloaded.: 100%|##########| 75.0/75.0 [00:00<?, ?B/s]"
            ]
          },
          "metadata": {},
          "output_type": "display_data"
        },
        {
          "data": {
            "application/vnd.jupyter.widget-view+json": {
              "model_id": "97156cccac774792a95be3eacee7f395",
              "version_major": 2,
              "version_minor": 0
            },
            "text/plain": [
              "Skipping sub-pd6_ses-off_task-rest_channels.tsv: already downloaded.: 100%|##########| 2.22k/2.22k [00:00<?, ?…"
            ]
          },
          "metadata": {},
          "output_type": "display_data"
        },
        {
          "data": {
            "application/vnd.jupyter.widget-view+json": {
              "model_id": "2cfd7be7275b490da0f2a58dcf607743",
              "version_major": 2,
              "version_minor": 0
            },
            "text/plain": [
              "Skipping sub-pd6_ses-off_task-rest_eeg.json: already downloaded.: 100%|##########| 471/471 [00:00<?, ?B/s]"
            ]
          },
          "metadata": {},
          "output_type": "display_data"
        },
        {
          "data": {
            "application/vnd.jupyter.widget-view+json": {
              "model_id": "a22c11d7128d4407b48803fda4c499ec",
              "version_major": 2,
              "version_minor": 0
            },
            "text/plain": [
              "Skipping sub-pd6_ses-off_task-rest_eeg.bdf: already downloaded.: 100%|##########| 11.5M/11.5M [00:00<?, ?B/s]"
            ]
          },
          "metadata": {},
          "output_type": "display_data"
        },
        {
          "data": {
            "application/vnd.jupyter.widget-view+json": {
              "model_id": "2623d796e27c4add8299046513ced35a",
              "version_major": 2,
              "version_minor": 0
            },
            "text/plain": [
              "Skipping sub-pd6_ses-off_task-rest_events.tsv: already downloaded.: 100%|##########| 66.0/66.0 [00:00<?, ?B/s]"
            ]
          },
          "metadata": {},
          "output_type": "display_data"
        },
        {
          "data": {
            "application/vnd.jupyter.widget-view+json": {
              "model_id": "f8050fa133ee48ee8ff30b6d2f79bab9",
              "version_major": 2,
              "version_minor": 0
            },
            "text/plain": [
              "Skipping sub-pd6_ses-on_scans.tsv: already downloaded.: 100%|##########| 74.0/74.0 [00:00<?, ?B/s]"
            ]
          },
          "metadata": {},
          "output_type": "display_data"
        },
        {
          "data": {
            "application/vnd.jupyter.widget-view+json": {
              "model_id": "7771ad1c2ffe47f8b05ff59dc6c92748",
              "version_major": 2,
              "version_minor": 0
            },
            "text/plain": [
              "Skipping sub-pd6_ses-on_task-rest_beh.json: already downloaded.: 100%|##########| 433/433 [00:00<?, ?B/s]"
            ]
          },
          "metadata": {},
          "output_type": "display_data"
        },
        {
          "data": {
            "application/vnd.jupyter.widget-view+json": {
              "model_id": "e7e6360bf5654e06b443b516edf65da3",
              "version_major": 2,
              "version_minor": 0
            },
            "text/plain": [
              "Skipping sub-pd6_ses-on_task-rest_beh.tsv: already downloaded.: 100%|##########| 10.0/10.0 [00:00<?, ?B/s]"
            ]
          },
          "metadata": {},
          "output_type": "display_data"
        },
        {
          "data": {
            "application/vnd.jupyter.widget-view+json": {
              "model_id": "a23cc505a1c849ed8045b0e6054ee44c",
              "version_major": 2,
              "version_minor": 0
            },
            "text/plain": [
              "Skipping sub-pd6_ses-on_task-rest_channels.tsv: already downloaded.: 100%|##########| 2.22k/2.22k [00:00<?, ?B…"
            ]
          },
          "metadata": {},
          "output_type": "display_data"
        },
        {
          "data": {
            "application/vnd.jupyter.widget-view+json": {
              "model_id": "361156327b4c44eeb9ad74fee815c987",
              "version_major": 2,
              "version_minor": 0
            },
            "text/plain": [
              "Skipping sub-pd6_ses-on_task-rest_eeg.json: already downloaded.: 100%|##########| 471/471 [00:00<?, ?B/s]"
            ]
          },
          "metadata": {},
          "output_type": "display_data"
        },
        {
          "data": {
            "application/vnd.jupyter.widget-view+json": {
              "model_id": "91946417aa664adf98c7a3bd7120130e",
              "version_major": 2,
              "version_minor": 0
            },
            "text/plain": [
              "Re-downloading README: file size mismatch.: 0.00B [00:00, ?B/s]"
            ]
          },
          "metadata": {},
          "output_type": "display_data"
        },
        {
          "data": {
            "application/vnd.jupyter.widget-view+json": {
              "model_id": "ecbf87a882d5403c8a64b6fe5aa395ed",
              "version_major": 2,
              "version_minor": 0
            },
            "text/plain": [
              "Re-downloading CHANGES: file size mismatch.: 0.00B [00:00, ?B/s]"
            ]
          },
          "metadata": {},
          "output_type": "display_data"
        },
        {
          "data": {
            "application/vnd.jupyter.widget-view+json": {
              "model_id": "0236dd9276514cc2a2762b26defa1e16",
              "version_major": 2,
              "version_minor": 0
            },
            "text/plain": [
              "Skipping sub-pd6_ses-on_task-rest_eeg.bdf: already downloaded.: 100%|##########| 17.4M/17.4M [00:00<?, ?B/s]"
            ]
          },
          "metadata": {},
          "output_type": "display_data"
        },
        {
          "data": {
            "application/vnd.jupyter.widget-view+json": {
              "model_id": "eff6e120ae024223998e151f36cea074",
              "version_major": 2,
              "version_minor": 0
            },
            "text/plain": [
              "Skipping sub-pd6_ses-on_task-rest_events.tsv: already downloaded.: 100%|##########| 51.0/51.0 [00:00<?, ?B/s]"
            ]
          },
          "metadata": {},
          "output_type": "display_data"
        },
        {
          "data": {
            "application/vnd.jupyter.widget-view+json": {
              "model_id": "17a66886e4c84d379b1bcbbce42d066f",
              "version_major": 2,
              "version_minor": 0
            },
            "text/plain": [
              "Re-downloading dataset_description.json: file size mismatch.: 0.00B [00:00, ?B/s]"
            ]
          },
          "metadata": {},
          "output_type": "display_data"
        },
        {
          "data": {
            "application/vnd.jupyter.widget-view+json": {
              "model_id": "9e7de60d0cc74670a8c05706b179157b",
              "version_major": 2,
              "version_minor": 0
            },
            "text/plain": [
              "Re-downloading sub-pd6_ses-off_task-rest_beh.json: file size mismatch.: 0.00B [00:00, ?B/s]"
            ]
          },
          "metadata": {},
          "output_type": "display_data"
        }
      ],
      "source": [
        "raw_off = fetch_raw(subject, 'off')\n",
        "\n",
        "raw_off.drop_channels(['EXG1', 'EXG2', 'EXG3', 'EXG4','EXG5', 'EXG6', 'EXG7', 'EXG8', 'Status'])\n",
        "raw_off.set_montage(\"biosemi32\", verbose=verbose)\n",
        "raw_off.set_eeg_reference(ref_channels='average',verbose=verbose)\n",
        "raw_off.filter(0.5, None, fir_design='firwin', phase='zero-double', verbose=verbose)\n",
        "\n",
        "epochs_all_off = mne.make_fixed_length_epochs(raw_off, duration=3, preload=True, verbose=verbose)\n",
        "ar = autoreject.AutoReject(n_interpolate=[1, 2, 3, 4], random_state=11, verbose=verbose)\n",
        "ar.fit(epochs_all_off)\n",
        "epochs_off = ar.transform(epochs_all_off)"
      ]
    },
    {
      "cell_type": "markdown",
      "metadata": {
        "id": "dFgwdI8eHjEo"
      },
      "source": [
        "calc vmax"
      ]
    },
    {
      "cell_type": "code",
      "execution_count": 27,
      "metadata": {},
      "outputs": [
        {
          "name": "stdout",
          "output_type": "stream",
          "text": [
            "[........................................] 100% | 5.88 sec | comodulogram: DAR(10, 1) \n",
            "[........................................] 100% | 5.90 sec | comodulogram: DAR(10, 1) \n",
            "[........................................] 100% | 6.31 sec | comodulogram: DAR(10, 1) "
          ]
        }
      ],
      "source": [
        "pacs_off = np.repeat(PACSettings.create_Comodulogram(raw_off.info['sfreq']), 3)                                                                                                                                                          \n",
        "\n",
        "pacs_off[0].fit(epochs_off.get_data(picks=['C3'])[:,0,:])\n",
        "pacs_off[1].fit(epochs_off.get_data(picks=['C4'])[:,0,:])\n",
        "pacs_off[2].comod_ = np.mean([pacs_off[0].comod_, pacs_off[1].comod_],axis=0)"
      ]
    },
    {
      "cell_type": "code",
      "execution_count": 31,
      "metadata": {},
      "outputs": [
        {
          "ename": "TypeError",
          "evalue": "only integer scalar arrays can be converted to a scalar index",
          "output_type": "error",
          "traceback": [
            "\u001b[0;31m---------------------------------------------------------------------------\u001b[0m",
            "\u001b[0;31mTypeError\u001b[0m                                 Traceback (most recent call last)",
            "Cell \u001b[0;32mIn[31], line 1\u001b[0m\n\u001b[0;32m----> 1\u001b[0m \u001b[43mnp\u001b[49m\u001b[38;5;241;43m.\u001b[39;49m\u001b[43mconcatenate\u001b[49m\u001b[43m(\u001b[49m\u001b[43mpacs_on\u001b[49m\u001b[43m,\u001b[49m\u001b[43m \u001b[49m\u001b[43mpacs_off\u001b[49m\u001b[43m)\u001b[49m\n",
            "\u001b[0;31mTypeError\u001b[0m: only integer scalar arrays can be converted to a scalar index"
          ]
        }
      ],
      "source": [
        "np.concatenate(pacs_on, pacs_off)"
      ]
    },
    {
      "cell_type": "code",
      "execution_count": 28,
      "metadata": {
        "id": "nPHQdM-6HlXQ"
      },
      "outputs": [
        {
          "ename": "TypeError",
          "evalue": "unsupported operand type(s) for +: 'Comodulogram' and 'Comodulogram'",
          "output_type": "error",
          "traceback": [
            "\u001b[0;31m---------------------------------------------------------------------------\u001b[0m",
            "\u001b[0;31mTypeError\u001b[0m                                 Traceback (most recent call last)",
            "Cell \u001b[0;32mIn[28], line 1\u001b[0m\n\u001b[0;32m----> 1\u001b[0m vmax \u001b[38;5;241m=\u001b[39m \u001b[38;5;28mmax\u001b[39m([pac\u001b[38;5;241m.\u001b[39mcomod_\u001b[38;5;241m.\u001b[39mmax() \u001b[38;5;28;01mfor\u001b[39;00m pac \u001b[38;5;129;01min\u001b[39;00m \u001b[43mpacs_on\u001b[49m\u001b[43m \u001b[49m\u001b[38;5;241;43m+\u001b[39;49m\u001b[43m \u001b[49m\u001b[43mpacs_off\u001b[49m])\n",
            "\u001b[0;31mTypeError\u001b[0m: unsupported operand type(s) for +: 'Comodulogram' and 'Comodulogram'"
          ]
        }
      ],
      "source": [
        "vmax = max([pac.comod_.max() for pac in pacs_on + pacs_off])"
      ]
    },
    {
      "cell_type": "markdown",
      "metadata": {
        "id": "QyHdtKjHHrzM"
      },
      "source": [
        "modulation index"
      ]
    },
    {
      "cell_type": "code",
      "execution_count": null,
      "metadata": {
        "id": "QSMBVmoRHs3U"
      },
      "outputs": [],
      "source": [
        "mis_on  = [ np.mean(pac.comod_) for pac in pacs_on ]\n",
        "mis_off = [ np.mean(pac.comod_) for pac in pacs_off ]"
      ]
    },
    {
      "cell_type": "code",
      "execution_count": null,
      "metadata": {
        "id": "q4uJsAKvIFSU"
      },
      "outputs": [],
      "source": [
        "print(\"%s \" % (subject))\n",
        "print(\" ON  C3:%.3E C4:%.3E AVG:%.3E\" % (mis_on[0], mis_on[1], mis_on[2]))\n",
        "print(\" OFF C3:%.3E C4:%.3E AVG:%.3E\" % (mis_off[0], mis_off[1], mis_off[2]))"
      ]
    },
    {
      "cell_type": "markdown",
      "metadata": {
        "id": "tiqfCVhdHv0_"
      },
      "source": [
        "matplotlib object with title"
      ]
    },
    {
      "cell_type": "code",
      "execution_count": null,
      "metadata": {
        "id": "471KOK1zHzxe"
      },
      "outputs": [],
      "source": [
        "fig,axs=plt.subplots(2,3,figsize=(16,8))\n",
        "\n",
        "plt.suptitle(\"Subject: %s  PAC Method: %s\"\n",
        "             % (subject, ComodulogramSettings.method ))"
      ]
    },
    {
      "cell_type": "markdown",
      "metadata": {
        "id": "Ht9OGm9XH28y"
      },
      "source": [
        "plot the previously created pacs"
      ]
    },
    {
      "cell_type": "code",
      "execution_count": null,
      "metadata": {
        "id": "jv7IErHuH6oz"
      },
      "outputs": [],
      "source": [
        "pacs_on[0].plot(titles=[\"ON C3 MI=%.2E\"  % mis_on[0]], axs=[axs[0,0]], vmin=0, vmax=vmax)\n",
        "pacs_on[1].plot(titles=[\"ON C4 MI=%.2E\"  % mis_on[1]], axs=[axs[0,1]], vmin=0, vmax=vmax)\n",
        "pacs_on[2].plot(titles=[\"ON AVG MI=%.2E\" % mis_on[2]], axs=[axs[0,2]], vmin=0, vmax=vmax)\n",
        "\n",
        "pacs_off[0].plot(titles=[\"OFF C3 MI=%.2E\"  % mis_off[0]], axs=[axs[1,0]], vmin=0, vmax=vmax)\n",
        "pacs_off[1].plot(titles=[\"OFF C4 MI=%.2E\"  % mis_off[1]], axs=[axs[1,1]], vmin=0, vmax=vmax)\n",
        "pacs_off[2].plot(titles=[\"OFF AVG MI=%.2E\" % mis_off[2]], axs=[axs[1,2]], vmin=0, vmax=vmax)\n"
      ]
    },
    {
      "cell_type": "code",
      "execution_count": null,
      "metadata": {
        "id": "GCI6DM9uIkF5"
      },
      "outputs": [],
      "source": [
        "plt.show()"
      ]
    }
  ],
  "metadata": {
    "accelerator": "TPU",
    "colab": {
      "gpuType": "V28",
      "provenance": []
    },
    "kernelspec": {
      "display_name": "Python 3",
      "name": "python3"
    },
    "language_info": {
      "codemirror_mode": {
        "name": "ipython",
        "version": 3
      },
      "file_extension": ".py",
      "mimetype": "text/x-python",
      "name": "python",
      "nbconvert_exporter": "python",
      "pygments_lexer": "ipython3",
      "version": "3.10.13"
    },
    "widgets": {
      "application/vnd.jupyter.widget-state+json": {
        "2d761bc9063e4bd1982ee2822b38c10f": {
          "model_module": "@jupyter-widgets/controls",
          "model_module_version": "1.5.0",
          "model_name": "FloatProgressModel",
          "state": {
            "_dom_classes": [],
            "_model_module": "@jupyter-widgets/controls",
            "_model_module_version": "1.5.0",
            "_model_name": "FloatProgressModel",
            "_view_count": null,
            "_view_module": "@jupyter-widgets/controls",
            "_view_module_version": "1.5.0",
            "_view_name": "ProgressView",
            "bar_style": "success",
            "description": "",
            "description_tooltip": null,
            "layout": "IPY_MODEL_32088a4fe3114817b3e3a65d7d49356b",
            "max": 1,
            "min": 0,
            "orientation": "horizontal",
            "style": "IPY_MODEL_a0ff7d8b6a184d85ab1095e1b33f5557",
            "value": 1
          }
        },
        "32088a4fe3114817b3e3a65d7d49356b": {
          "model_module": "@jupyter-widgets/base",
          "model_module_version": "1.2.0",
          "model_name": "LayoutModel",
          "state": {
            "_model_module": "@jupyter-widgets/base",
            "_model_module_version": "1.2.0",
            "_model_name": "LayoutModel",
            "_view_count": null,
            "_view_module": "@jupyter-widgets/base",
            "_view_module_version": "1.2.0",
            "_view_name": "LayoutView",
            "align_content": null,
            "align_items": null,
            "align_self": null,
            "border": null,
            "bottom": null,
            "display": null,
            "flex": null,
            "flex_flow": null,
            "grid_area": null,
            "grid_auto_columns": null,
            "grid_auto_flow": null,
            "grid_auto_rows": null,
            "grid_column": null,
            "grid_gap": null,
            "grid_row": null,
            "grid_template_areas": null,
            "grid_template_columns": null,
            "grid_template_rows": null,
            "height": null,
            "justify_content": null,
            "justify_items": null,
            "left": null,
            "margin": null,
            "max_height": null,
            "max_width": null,
            "min_height": null,
            "min_width": null,
            "object_fit": null,
            "object_position": null,
            "order": null,
            "overflow": null,
            "overflow_x": null,
            "overflow_y": null,
            "padding": null,
            "right": null,
            "top": null,
            "visibility": null,
            "width": "20px"
          }
        },
        "42d0634ceb144a03b536a40bdc6a6a6c": {
          "model_module": "@jupyter-widgets/controls",
          "model_module_version": "1.5.0",
          "model_name": "DescriptionStyleModel",
          "state": {
            "_model_module": "@jupyter-widgets/controls",
            "_model_module_version": "1.5.0",
            "_model_name": "DescriptionStyleModel",
            "_view_count": null,
            "_view_module": "@jupyter-widgets/base",
            "_view_module_version": "1.2.0",
            "_view_name": "StyleView",
            "description_width": ""
          }
        },
        "4e76251a2ae64d46a44e02687cabadf6": {
          "model_module": "@jupyter-widgets/base",
          "model_module_version": "1.2.0",
          "model_name": "LayoutModel",
          "state": {
            "_model_module": "@jupyter-widgets/base",
            "_model_module_version": "1.2.0",
            "_model_name": "LayoutModel",
            "_view_count": null,
            "_view_module": "@jupyter-widgets/base",
            "_view_module_version": "1.2.0",
            "_view_name": "LayoutView",
            "align_content": null,
            "align_items": null,
            "align_self": null,
            "border": null,
            "bottom": null,
            "display": null,
            "flex": null,
            "flex_flow": null,
            "grid_area": null,
            "grid_auto_columns": null,
            "grid_auto_flow": null,
            "grid_auto_rows": null,
            "grid_column": null,
            "grid_gap": null,
            "grid_row": null,
            "grid_template_areas": null,
            "grid_template_columns": null,
            "grid_template_rows": null,
            "height": null,
            "justify_content": null,
            "justify_items": null,
            "left": null,
            "margin": null,
            "max_height": null,
            "max_width": null,
            "min_height": null,
            "min_width": null,
            "object_fit": null,
            "object_position": null,
            "order": null,
            "overflow": null,
            "overflow_x": null,
            "overflow_y": null,
            "padding": null,
            "right": null,
            "top": null,
            "visibility": null,
            "width": null
          }
        },
        "4ea6d5ec4e674b86b326e9ad059515ac": {
          "model_module": "@jupyter-widgets/controls",
          "model_module_version": "1.5.0",
          "model_name": "HTMLModel",
          "state": {
            "_dom_classes": [],
            "_model_module": "@jupyter-widgets/controls",
            "_model_module_version": "1.5.0",
            "_model_name": "HTMLModel",
            "_view_count": null,
            "_view_module": "@jupyter-widgets/controls",
            "_view_module_version": "1.5.0",
            "_view_name": "HTMLView",
            "description": "",
            "description_tooltip": null,
            "layout": "IPY_MODEL_9887e4d76d1b4176a69f9b4abf10dd34",
            "placeholder": "​",
            "style": "IPY_MODEL_5518ce904ce14dab82686c78ec68e5b0",
            "value": " 20/? [00:09&lt;00:00,  3.86 entities/s]"
          }
        },
        "5518ce904ce14dab82686c78ec68e5b0": {
          "model_module": "@jupyter-widgets/controls",
          "model_module_version": "1.5.0",
          "model_name": "DescriptionStyleModel",
          "state": {
            "_model_module": "@jupyter-widgets/controls",
            "_model_module_version": "1.5.0",
            "_model_name": "DescriptionStyleModel",
            "_view_count": null,
            "_view_module": "@jupyter-widgets/base",
            "_view_module_version": "1.2.0",
            "_view_name": "StyleView",
            "description_width": ""
          }
        },
        "9887e4d76d1b4176a69f9b4abf10dd34": {
          "model_module": "@jupyter-widgets/base",
          "model_module_version": "1.2.0",
          "model_name": "LayoutModel",
          "state": {
            "_model_module": "@jupyter-widgets/base",
            "_model_module_version": "1.2.0",
            "_model_name": "LayoutModel",
            "_view_count": null,
            "_view_module": "@jupyter-widgets/base",
            "_view_module_version": "1.2.0",
            "_view_name": "LayoutView",
            "align_content": null,
            "align_items": null,
            "align_self": null,
            "border": null,
            "bottom": null,
            "display": null,
            "flex": null,
            "flex_flow": null,
            "grid_area": null,
            "grid_auto_columns": null,
            "grid_auto_flow": null,
            "grid_auto_rows": null,
            "grid_column": null,
            "grid_gap": null,
            "grid_row": null,
            "grid_template_areas": null,
            "grid_template_columns": null,
            "grid_template_rows": null,
            "height": null,
            "justify_content": null,
            "justify_items": null,
            "left": null,
            "margin": null,
            "max_height": null,
            "max_width": null,
            "min_height": null,
            "min_width": null,
            "object_fit": null,
            "object_position": null,
            "order": null,
            "overflow": null,
            "overflow_x": null,
            "overflow_y": null,
            "padding": null,
            "right": null,
            "top": null,
            "visibility": null,
            "width": null
          }
        },
        "a0ff7d8b6a184d85ab1095e1b33f5557": {
          "model_module": "@jupyter-widgets/controls",
          "model_module_version": "1.5.0",
          "model_name": "ProgressStyleModel",
          "state": {
            "_model_module": "@jupyter-widgets/controls",
            "_model_module_version": "1.5.0",
            "_model_name": "ProgressStyleModel",
            "_view_count": null,
            "_view_module": "@jupyter-widgets/base",
            "_view_module_version": "1.2.0",
            "_view_name": "StyleView",
            "bar_color": null,
            "description_width": ""
          }
        },
        "b7e87a6c3b044a88a6d80ece25ea37c1": {
          "model_module": "@jupyter-widgets/base",
          "model_module_version": "1.2.0",
          "model_name": "LayoutModel",
          "state": {
            "_model_module": "@jupyter-widgets/base",
            "_model_module_version": "1.2.0",
            "_model_name": "LayoutModel",
            "_view_count": null,
            "_view_module": "@jupyter-widgets/base",
            "_view_module_version": "1.2.0",
            "_view_name": "LayoutView",
            "align_content": null,
            "align_items": null,
            "align_self": null,
            "border": null,
            "bottom": null,
            "display": null,
            "flex": null,
            "flex_flow": null,
            "grid_area": null,
            "grid_auto_columns": null,
            "grid_auto_flow": null,
            "grid_auto_rows": null,
            "grid_column": null,
            "grid_gap": null,
            "grid_row": null,
            "grid_template_areas": null,
            "grid_template_columns": null,
            "grid_template_rows": null,
            "height": null,
            "justify_content": null,
            "justify_items": null,
            "left": null,
            "margin": null,
            "max_height": null,
            "max_width": null,
            "min_height": null,
            "min_width": null,
            "object_fit": null,
            "object_position": null,
            "order": null,
            "overflow": null,
            "overflow_x": null,
            "overflow_y": null,
            "padding": null,
            "right": null,
            "top": null,
            "visibility": null,
            "width": null
          }
        },
        "e589aa36a04c47188557558bffaba0a1": {
          "model_module": "@jupyter-widgets/controls",
          "model_module_version": "1.5.0",
          "model_name": "HTMLModel",
          "state": {
            "_dom_classes": [],
            "_model_module": "@jupyter-widgets/controls",
            "_model_module_version": "1.5.0",
            "_model_name": "HTMLModel",
            "_view_count": null,
            "_view_module": "@jupyter-widgets/controls",
            "_view_module_version": "1.5.0",
            "_view_name": "HTMLView",
            "description": "",
            "description_tooltip": null,
            "layout": "IPY_MODEL_4e76251a2ae64d46a44e02687cabadf6",
            "placeholder": "​",
            "style": "IPY_MODEL_42d0634ceb144a03b536a40bdc6a6a6c",
            "value": "📁 Traversing directories for ds002778 : "
          }
        },
        "fea4964f44d744bda3dca6d26a4cddb9": {
          "model_module": "@jupyter-widgets/controls",
          "model_module_version": "1.5.0",
          "model_name": "HBoxModel",
          "state": {
            "_dom_classes": [],
            "_model_module": "@jupyter-widgets/controls",
            "_model_module_version": "1.5.0",
            "_model_name": "HBoxModel",
            "_view_count": null,
            "_view_module": "@jupyter-widgets/controls",
            "_view_module_version": "1.5.0",
            "_view_name": "HBoxView",
            "box_style": "",
            "children": [
              "IPY_MODEL_e589aa36a04c47188557558bffaba0a1",
              "IPY_MODEL_2d761bc9063e4bd1982ee2822b38c10f",
              "IPY_MODEL_4ea6d5ec4e674b86b326e9ad059515ac"
            ],
            "layout": "IPY_MODEL_b7e87a6c3b044a88a6d80ece25ea37c1"
          }
        }
      }
    }
  },
  "nbformat": 4,
  "nbformat_minor": 0
}
