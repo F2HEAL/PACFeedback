{
  "cells": [
    {
      "cell_type": "markdown",
      "metadata": {
        "id": "6tmjX6KLDNy_"
      },
      "source": [
        "# F2Heal - PAC analysis\n",
        "\n"
      ]
    },
    {
      "cell_type": "markdown",
      "metadata": {},
      "source": [
        "## Intro\n",
        "\n",
        "In this notbook we try to reproduce the results of Swan et al. in \"Elevated Synchrony in Parkinson's Disease Detected with\n",
        "Electroencephalography\" using Python.\n",
        "\n",
        "The following domain specific Python libraries are used:\n",
        "* [MNE-Python](https://mne.tools/)\n",
        "* [pactools](https://github.com/pactools/pactools)\n",
        "* [openneuro-py](https://pypi.org/project/openneuro-py/)\n",
        "\n",
        "The following general purpose libraries are used:\n",
        "* [NumPy](https://numpy.org/)\n",
        "* [MatplotLib](https://matplotlib.org/)\n",
        "\n",
        "We will use the San Diego dataset [published on OpenNeuro](https://openneuro.org/datasets/ds002778)\n",
        "\n",
        "## Preparation\n"
      ]
    },
    {
      "cell_type": "markdown",
      "metadata": {
        "id": "li6G7p1MUb6V"
      },
      "source": [
        "Install required python packages and configure MatplotLib output for this notebook evironment:"
      ]
    },
    {
      "cell_type": "code",
      "execution_count": null,
      "metadata": {
        "colab": {
          "base_uri": "https://localhost:8080/"
        },
        "collapsed": true,
        "id": "8FATL2srDbL7",
        "outputId": "6a9b0e97-fb37-4bdc-8b71-cfedc734aa03"
      },
      "outputs": [],
      "source": [
        "%pip install mne mne_bids pactools openneuro-py autoreject ipympl\n",
        "%matplotlib widget"
      ]
    },
    {
      "cell_type": "markdown",
      "metadata": {
        "id": "vMC-6VaaUg0n"
      },
      "source": [
        "## Pyhton script\n",
        "\n",
        "### Setting the scene\n",
        "\n",
        "As usual, we like it open source!"
      ]
    },
    {
      "cell_type": "code",
      "execution_count": null,
      "metadata": {
        "id": "5PP1-gweCUXb"
      },
      "outputs": [],
      "source": [
        "# SPDX-License-Identifier: AGPL-3.0-or-later "
      ]
    },
    {
      "cell_type": "markdown",
      "metadata": {},
      "source": [
        "\n",
        "The Python script starts by importing all required libraries"
      ]
    },
    {
      "cell_type": "code",
      "execution_count": null,
      "metadata": {
        "colab": {
          "base_uri": "https://localhost:8080/"
        },
        "collapsed": true,
        "id": "zBDbOG8DDfZr",
        "outputId": "c73d68c5-e632-4145-c841-1e89679bab96"
      },
      "outputs": [],
      "source": [
        "import os\n",
        "import mne\n",
        "import mne_bids\n",
        "import openneuro\n",
        "\n",
        "import autoreject\n",
        "\n",
        "import numpy as np\n",
        "import pactools\n",
        "import matplotlib.pyplot as plt"
      ]
    },
    {
      "cell_type": "markdown",
      "metadata": {
        "id": "V9xxmQcbUmlJ"
      },
      "source": [
        "We introduce two configurable parameters:\n",
        "* `verbose` can be set to **False** to reduce command output"
      ]
    },
    {
      "cell_type": "code",
      "execution_count": null,
      "metadata": {
        "id": "OyqBH8FsE0z5"
      },
      "outputs": [],
      "source": [
        "verbose = True"
      ]
    },
    {
      "cell_type": "markdown",
      "metadata": {},
      "source": [
        "* `n_jobs` controls the number of parallel threads and should be set to to the number of CPU cores available in your environment for optimal performance"
      ]
    },
    {
      "cell_type": "code",
      "execution_count": null,
      "metadata": {},
      "outputs": [],
      "source": [
        "n_jobs = 2"
      ]
    },
    {
      "cell_type": "markdown",
      "metadata": {
        "id": "NAtGeqypUvXk"
      },
      "source": [
        "We'll define a class with configuration data describing the OpenNeuro dataset that will be used from here on."
      ]
    },
    {
      "cell_type": "code",
      "execution_count": null,
      "metadata": {
        "id": "MiX18xOeFWaj"
      },
      "outputs": [],
      "source": [
        "class ONDataset:\n",
        "    \"\"\"\n",
        "    Open EEG dataset from OpenNeuro\n",
        "    Parkinson's EEG dataset <https://openneuro.org/datasets/ds002778\n",
        "    \"\"\"\n",
        "    dataset = 'ds002778'\n",
        "    bids_root = \"/tmp/mne\"\n",
        "    datatype = 'eeg'\n",
        "    task = 'rest'\n",
        "    suffix = 'eeg'\n"
      ]
    },
    {
      "cell_type": "markdown",
      "metadata": {
        "id": "jWrzDUGKU1i-"
      },
      "source": [
        "Next, we'll also define a class with configuration parameters relevant for the PAC generation. These variables can be modified.\n",
        "\n",
        "The variable `low_fq_range` defines the frequency range for which the phase is extracted and will become the X-axis of the comodulogram.\n",
        "\n",
        "The variable `high_fq_range` defines the frequency range for which the amplitude component is extracted and will become the Y-axis of the comodulogram.\n",
        "\n",
        "The syntax of the Numpy linspace function is: `np.linspace(<lower freq in Hz>, <upper freq in Hz>, <number of intervals>)`. The `<number of intervals>` determine the resolution of the comodulogram.\n",
        "\n",
        "The variable `method` specifies the PAC calculation method. Valid methods are:  `'tort', 'penny', 'vanwijk', 'duprelatour', 'colgin', 'sigl', 'bispectrum'`\n",
        "\n",
        "Swan et al. have used the equivalent of the `'tort'` method in MATLAB. This method does not produce similar results in MNE-Python. The method `'duprelatour'` does. See [this Github issue](https://github.com/pactools/pactools/issues/33) for more details."
      ]
    },
    {
      "cell_type": "code",
      "execution_count": null,
      "metadata": {
        "id": "Gdxd81KPGpx3"
      },
      "outputs": [],
      "source": [
        "class PACSettings:\n",
        "    low_fq_range = np.linspace(13,50,150)\n",
        "    low_fq_width = 2\n",
        "    high_fq_range= np.linspace(50,200,150)\n",
        "    high_fq_width= 4\n",
        "    method= 'duprelatour'\n",
        "\n",
        "    def create_Comodulogram(fs):\n",
        "        return pactools.Comodulogram (fs=fs,\n",
        "                                      low_fq_range=PACSettings.low_fq_range,\n",
        "                                      low_fq_width=PACSettings.low_fq_width,\n",
        "                                      high_fq_range=PACSettings.high_fq_range,\n",
        "                                      high_fq_width=PACSettings.high_fq_width,\n",
        "                                      method=PACSettings.method,\n",
        "                                      progress_bar=verbose,\n",
        "                                      n_jobs=n_jobs)"
      ]
    },
    {
      "cell_type": "markdown",
      "metadata": {
        "id": "DkuRLK_3HNj9"
      },
      "source": [
        "### Loading the OpenNeuro data\n",
        "\n",
        "We need to pick a valid subject from the OpenNeuro dataset. You can pick an ID from: 3, 5, 6, 9, 11, 12, 13, 14, 16, 17, 19, 22, 23, 26, 28"
      ]
    },
    {
      "cell_type": "code",
      "execution_count": null,
      "metadata": {
        "id": "A3VR7NRgHKts"
      },
      "outputs": [],
      "source": [
        "subject = \"pd6\""
      ]
    },
    {
      "cell_type": "markdown",
      "metadata": {},
      "source": [
        "Next, we'll download the relevant EEG session for this subject from OpenNeuro. You might need to restart this step a second time if it fails at first."
      ]
    },
    {
      "cell_type": "code",
      "execution_count": null,
      "metadata": {
        "colab": {
          "base_uri": "https://localhost:8080/",
          "height": 257,
          "referenced_widgets": [
            "fea4964f44d744bda3dca6d26a4cddb9",
            "e589aa36a04c47188557558bffaba0a1",
            "2d761bc9063e4bd1982ee2822b38c10f",
            "4ea6d5ec4e674b86b326e9ad059515ac",
            "b7e87a6c3b044a88a6d80ece25ea37c1",
            "4e76251a2ae64d46a44e02687cabadf6",
            "42d0634ceb144a03b536a40bdc6a6a6c",
            "32088a4fe3114817b3e3a65d7d49356b",
            "a0ff7d8b6a184d85ab1095e1b33f5557",
            "9887e4d76d1b4176a69f9b4abf10dd34",
            "5518ce904ce14dab82686c78ec68e5b0"
          ]
        },
        "collapsed": true,
        "id": "eYGCh-NqOZSN",
        "outputId": "62604501-4e18-4146-cb76-39eab53ef2ba"
      },
      "outputs": [],
      "source": [
        "def fetch_raw(subject, session):\n",
        "\n",
        "    if not os.path.isdir(ONDataset.bids_root):\n",
        "        os.makedirs(ONDataset.bids_root)\n",
        "\n",
        "    openneuro.download(dataset=ONDataset.dataset, target_dir=ONDataset.bids_root, include=[f\"sub-{subject}\"])\n",
        "    bids_path = mne_bids.BIDSPath(root=ONDataset.bids_root,\n",
        "                         task=ONDataset.task, suffix=ONDataset.suffix,\n",
        "                         datatype=ONDataset.datatype, session=session,\n",
        "                         subject=subject )\n",
        "\n",
        "    raw = mne.io.read_raw_bdf(bids_path, verbose=verbose, preload=True)\n",
        "\n",
        "    return raw\n",
        "\n",
        "raw_on = fetch_raw(subject, 'on')"
      ]
    },
    {
      "cell_type": "markdown",
      "metadata": {},
      "source": [
        "### Data inspection (optional)\n",
        "\n",
        "This data has now been loaded in a MNE-Python `raw` structure, that we can inspect:"
      ]
    },
    {
      "cell_type": "code",
      "execution_count": null,
      "metadata": {
        "colab": {
          "base_uri": "https://localhost:8080/"
        },
        "collapsed": true,
        "id": "W-4zAQ42O1hv",
        "outputId": "b661864a-44a3-496a-c059-2caada71b33f"
      },
      "outputs": [],
      "source": [
        "print(raw_on.info)\n",
        "print(raw_on.info[\"subject_info\"])"
      ]
    },
    {
      "cell_type": "markdown",
      "metadata": {},
      "source": [
        "We can also visulaize the raw stream:"
      ]
    },
    {
      "cell_type": "code",
      "execution_count": null,
      "metadata": {},
      "outputs": [],
      "source": [
        "_ = raw_on.plot(duration=5, n_channels=30)"
      ]
    },
    {
      "cell_type": "markdown",
      "metadata": {},
      "source": [
        "### Preprocessing 1/2\n",
        "\n",
        "Drop the external channels from the stream"
      ]
    },
    {
      "cell_type": "code",
      "execution_count": null,
      "metadata": {
        "colab": {
          "base_uri": "https://localhost:8080/",
          "height": 353
        },
        "id": "kjCtAA42ROl7",
        "outputId": "02c99c2f-2a34-4241-fc4d-8618063cd80c"
      },
      "outputs": [],
      "source": [
        "_ = raw_on.drop_channels(['EXG1', 'EXG2', 'EXG3', 'EXG4','EXG5', 'EXG6', 'EXG7', 'EXG8', 'Status'])"
      ]
    },
    {
      "cell_type": "markdown",
      "metadata": {},
      "source": [
        "Set the correct headset montage details, specify the model mentioned by George et al. in \"Dopaminergic therapy in Parkinson's disease decreases cortical beta band coherence in the resting state and increases cortical beta band power during executive control\""
      ]
    },
    {
      "cell_type": "code",
      "execution_count": null,
      "metadata": {
        "colab": {
          "base_uri": "https://localhost:8080/",
          "height": 353
        },
        "id": "laLfsVOyR8wj",
        "outputId": "c3b4fb81-7c18-44ba-c2a3-cd88b05b97bb"
      },
      "outputs": [],
      "source": [
        "_ = raw_on.set_montage(\"biosemi32\", on_missing=\"ignore\", verbose=verbose)"
      ]
    },
    {
      "cell_type": "markdown",
      "metadata": {},
      "source": [
        "Create a new virtual electrode by averaging all channels, the re-reference the data according to this new virtual reference."
      ]
    },
    {
      "cell_type": "code",
      "execution_count": null,
      "metadata": {
        "colab": {
          "base_uri": "https://localhost:8080/",
          "height": 353
        },
        "id": "9mh3zhUtSGcf",
        "outputId": "269bf5a5-f5ee-4f91-bc5c-cf0265b1fe29"
      },
      "outputs": [],
      "source": [
        "_ = raw_on.set_eeg_reference(ref_channels='average',verbose=verbose)"
      ]
    },
    {
      "cell_type": "markdown",
      "metadata": {},
      "source": [
        "Apply a high-pass filter with 0.5Hz cut-off frequency"
      ]
    },
    {
      "cell_type": "code",
      "execution_count": null,
      "metadata": {
        "colab": {
          "base_uri": "https://localhost:8080/",
          "height": 353
        },
        "id": "K8rSbblCSNmP",
        "outputId": "d57e33ac-652e-4311-83f5-350c78113bc3"
      },
      "outputs": [],
      "source": [
        "_ = raw_on.filter(0.5, None, fir_design='firwin', phase='zero-double', n_jobs=n_jobs, verbose=verbose)"
      ]
    },
    {
      "cell_type": "markdown",
      "metadata": {},
      "source": [
        "#### Visualizing PSD (optional)\n",
        "\n",
        "Now that montage data has been added, we can visualize the Power Spectral Density of the `raw_on` stream"
      ]
    },
    {
      "cell_type": "code",
      "execution_count": null,
      "metadata": {},
      "outputs": [],
      "source": [
        "_ = raw_on.compute_psd(fmax=50).plot(picks=\"data\", exclude=\"bads\", amplitude=False)"
      ]
    },
    {
      "cell_type": "markdown",
      "metadata": {},
      "source": [
        "### Preprocessing 2/2\n",
        "\n",
        "Divide the current raw stream in equal epochs of 3sec length."
      ]
    },
    {
      "cell_type": "code",
      "execution_count": null,
      "metadata": {
        "id": "gEMIQchlSTjR"
      },
      "outputs": [],
      "source": [
        "epochs_all_on = mne.make_fixed_length_epochs(raw_on, duration=3, preload=True, verbose=verbose)"
      ]
    },
    {
      "cell_type": "markdown",
      "metadata": {},
      "source": [
        "Apply the default autoreject filter"
      ]
    },
    {
      "cell_type": "code",
      "execution_count": null,
      "metadata": {
        "colab": {
          "base_uri": "https://localhost:8080/"
        },
        "id": "gp5p86D0SgpJ",
        "outputId": "84d6633f-5e14-4615-a3aa-fbf189a1d802"
      },
      "outputs": [],
      "source": [
        "ar = autoreject.AutoReject(n_interpolate=[1, 2, 3, 4], random_state=11, n_jobs=n_jobs, verbose=verbose)\n",
        "ar.fit(epochs_all_on)\n",
        "epochs_on = ar.transform(epochs_all_on)"
      ]
    },
    {
      "cell_type": "markdown",
      "metadata": {},
      "source": [
        "### Visualize autoreject heatmap (optional)\n",
        "\n",
        "We can visualize the actions of autoreject for channels 'C3' and 'C4'. \n",
        "\n",
        "Due to an [issue in pactools](https://github.com/autoreject/autoreject/issues/226) I use a hack to visualize only 'C3' and 'C4' via ar.picks_, resulting in a messy graf."
      ]
    },
    {
      "cell_type": "code",
      "execution_count": null,
      "metadata": {},
      "outputs": [],
      "source": [
        "ar.picks_ = [ i for i in range(len(ar.get_reject_log(epochs_all_on).ch_names)) if ar.get_reject_log(epochs_all_on).ch_names[i] in ['C3','C4']  ]\n",
        "_ = ar.get_reject_log(epochs_on, picks=['C3', 'C4']).plot('horizontal')\n"
      ]
    },
    {
      "cell_type": "markdown",
      "metadata": {},
      "source": [
        "### Calculating PAC\n",
        "\n",
        "Create a 3-element array for holding the Comodulogram objects, for electrode C3, C4 and their average respectively."
      ]
    },
    {
      "cell_type": "code",
      "execution_count": null,
      "metadata": {
        "id": "MshRJapmToY_"
      },
      "outputs": [],
      "source": [
        "pacs_on = [ PACSettings.create_Comodulogram(raw_on.info['sfreq']) for _ in range(3)]"
      ]
    },
    {
      "cell_type": "markdown",
      "metadata": {},
      "source": [
        "Fit C3 data to the first element of the array."
      ]
    },
    {
      "cell_type": "code",
      "execution_count": null,
      "metadata": {
        "id": "Ns86_oXCTxJt"
      },
      "outputs": [],
      "source": [
        "pacs_on[0].fit(epochs_on.get_data(picks=['C3'])[:,0,:])"
      ]
    },
    {
      "cell_type": "markdown",
      "metadata": {},
      "source": [
        "C4 data to the second element of the array"
      ]
    },
    {
      "cell_type": "code",
      "execution_count": null,
      "metadata": {
        "id": "XIBSfEmuVhgi"
      },
      "outputs": [],
      "source": [
        "pacs_on[1].fit(epochs_on.get_data(picks=['C4'])[:,0,:])"
      ]
    },
    {
      "cell_type": "markdown",
      "metadata": {},
      "source": [
        "Average of both in the third element."
      ]
    },
    {
      "cell_type": "code",
      "execution_count": null,
      "metadata": {
        "id": "-r37t6nuVlHT"
      },
      "outputs": [],
      "source": [
        "pacs_on[2].comod_ = np.mean([pacs_on[0].comod_, pacs_on[1].comod_],axis=0)"
      ]
    },
    {
      "cell_type": "markdown",
      "metadata": {},
      "source": [
        "Now that we have calculated the results for on-session, repeat for off-session."
      ]
    },
    {
      "cell_type": "code",
      "execution_count": null,
      "metadata": {},
      "outputs": [],
      "source": [
        "raw_off = fetch_raw(subject, 'off')\n",
        "\n",
        "raw_off.drop_channels(['EXG1', 'EXG2', 'EXG3', 'EXG4','EXG5', 'EXG6', 'EXG7', 'EXG8', 'Status'])\n",
        "raw_off.set_montage(\"biosemi32\", verbose=verbose)\n",
        "raw_off.set_eeg_reference(ref_channels='average',verbose=verbose)\n",
        "raw_off.filter(0.5, None, fir_design='firwin', phase='zero-double', n_jobs=n_jobs, verbose=verbose)\n",
        "\n",
        "epochs_all_off = mne.make_fixed_length_epochs(raw_off, duration=3, preload=True, verbose=verbose)\n",
        "ar = autoreject.AutoReject(n_interpolate=[1, 2, 3, 4], random_state=11, n_jobs=n_jobs, verbose=verbose)\n",
        "ar.fit(epochs_all_off)\n",
        "epochs_off = ar.transform(epochs_all_off)"
      ]
    },
    {
      "cell_type": "markdown",
      "metadata": {
        "id": "dFgwdI8eHjEo"
      },
      "source": [
        "Combine the OFF results in another 3-element array."
      ]
    },
    {
      "cell_type": "code",
      "execution_count": null,
      "metadata": {},
      "outputs": [],
      "source": [
        "pacs_off = [ PACSettings.create_Comodulogram(raw_off.info['sfreq']) for _ in range(3)]\n",
        "\n",
        "pacs_off[0].fit(epochs_off.get_data(picks=['C3'])[:,0,:])\n",
        "pacs_off[1].fit(epochs_off.get_data(picks=['C4'])[:,0,:])\n",
        "pacs_off[2].comod_ = np.mean([pacs_off[0].comod_, pacs_off[1].comod_],axis=0)"
      ]
    },
    {
      "cell_type": "markdown",
      "metadata": {},
      "source": [
        "To set a common scale for the Comodulograms, we need to find the Vmax in all results."
      ]
    },
    {
      "cell_type": "code",
      "execution_count": null,
      "metadata": {
        "id": "nPHQdM-6HlXQ"
      },
      "outputs": [],
      "source": [
        "vmax = max([pac.comod_.max() for pac in np.concatenate((pacs_on, pacs_off))])"
      ]
    },
    {
      "cell_type": "markdown",
      "metadata": {
        "id": "QyHdtKjHHrzM"
      },
      "source": [
        "Calculate the Modulation Index (MI) for every PAC by averaging the results."
      ]
    },
    {
      "cell_type": "code",
      "execution_count": null,
      "metadata": {
        "id": "QSMBVmoRHs3U"
      },
      "outputs": [],
      "source": [
        "mis_on  = [ np.mean(pac.comod_) for pac in pacs_on ]\n",
        "mis_off = [ np.mean(pac.comod_) for pac in pacs_off ]"
      ]
    },
    {
      "cell_type": "markdown",
      "metadata": {},
      "source": [
        "### Results\n",
        "\n",
        "Print the MI values"
      ]
    },
    {
      "cell_type": "code",
      "execution_count": null,
      "metadata": {
        "id": "q4uJsAKvIFSU"
      },
      "outputs": [],
      "source": [
        "print(\"%s \" % (subject))\n",
        "print(\" ON  C3:%.3E C4:%.3E AVG:%.3E\" % (mis_on[0], mis_on[1], mis_on[2]))\n",
        "print(\" OFF C3:%.3E C4:%.3E AVG:%.3E\" % (mis_off[0], mis_off[1], mis_off[2]))"
      ]
    },
    {
      "cell_type": "markdown",
      "metadata": {
        "id": "Ht9OGm9XH28y"
      },
      "source": [
        "Create Matplotlib object with the desired structure and size and plot the previously calculated results to it:"
      ]
    },
    {
      "cell_type": "code",
      "execution_count": null,
      "metadata": {
        "id": "jv7IErHuH6oz"
      },
      "outputs": [],
      "source": [
        "fig,axs=plt.subplots(2,3,figsize=(14,7))\n",
        "\n",
        "_ = plt.suptitle(\"Subject: %s  PAC Method: %s\"\n",
        "             % (subject, PACSettings.method ))\n",
        "\n",
        "pacs_on[0].plot(titles=[\"ON C3 MI=%.2E\"  % mis_on[0]], axs=[axs[0,0]], vmin=0, vmax=vmax)\n",
        "pacs_on[1].plot(titles=[\"ON C4 MI=%.2E\"  % mis_on[1]], axs=[axs[0,1]], vmin=0, vmax=vmax)\n",
        "pacs_on[2].plot(titles=[\"ON AVG MI=%.2E\" % mis_on[2]], axs=[axs[0,2]], vmin=0, vmax=vmax)\n",
        "\n",
        "pacs_off[0].plot(titles=[\"OFF C3 MI=%.2E\"  % mis_off[0]], axs=[axs[1,0]], vmin=0, vmax=vmax)\n",
        "pacs_off[1].plot(titles=[\"OFF C4 MI=%.2E\"  % mis_off[1]], axs=[axs[1,1]], vmin=0, vmax=vmax)\n",
        "pacs_off[2].plot(titles=[\"OFF AVG MI=%.2E\" % mis_off[2]], axs=[axs[1,2]], vmin=0, vmax=vmax)\n",
        "plt.show()\n"
      ]
    }
  ],
  "metadata": {
    "accelerator": "TPU",
    "colab": {
      "gpuType": "V28",
      "provenance": []
    },
    "kernelspec": {
      "display_name": "Python 3",
      "name": "python3"
    },
    "language_info": {
      "codemirror_mode": {
        "name": "ipython",
        "version": 3
      },
      "file_extension": ".py",
      "mimetype": "text/x-python",
      "name": "python",
      "nbconvert_exporter": "python",
      "pygments_lexer": "ipython3",
      "version": "3.10.13"
    },
    "widgets": {
      "application/vnd.jupyter.widget-state+json": {
        "2d761bc9063e4bd1982ee2822b38c10f": {
          "model_module": "@jupyter-widgets/controls",
          "model_module_version": "1.5.0",
          "model_name": "FloatProgressModel",
          "state": {
            "_dom_classes": [],
            "_model_module": "@jupyter-widgets/controls",
            "_model_module_version": "1.5.0",
            "_model_name": "FloatProgressModel",
            "_view_count": null,
            "_view_module": "@jupyter-widgets/controls",
            "_view_module_version": "1.5.0",
            "_view_name": "ProgressView",
            "bar_style": "success",
            "description": "",
            "description_tooltip": null,
            "layout": "IPY_MODEL_32088a4fe3114817b3e3a65d7d49356b",
            "max": 1,
            "min": 0,
            "orientation": "horizontal",
            "style": "IPY_MODEL_a0ff7d8b6a184d85ab1095e1b33f5557",
            "value": 1
          }
        },
        "32088a4fe3114817b3e3a65d7d49356b": {
          "model_module": "@jupyter-widgets/base",
          "model_module_version": "1.2.0",
          "model_name": "LayoutModel",
          "state": {
            "_model_module": "@jupyter-widgets/base",
            "_model_module_version": "1.2.0",
            "_model_name": "LayoutModel",
            "_view_count": null,
            "_view_module": "@jupyter-widgets/base",
            "_view_module_version": "1.2.0",
            "_view_name": "LayoutView",
            "align_content": null,
            "align_items": null,
            "align_self": null,
            "border": null,
            "bottom": null,
            "display": null,
            "flex": null,
            "flex_flow": null,
            "grid_area": null,
            "grid_auto_columns": null,
            "grid_auto_flow": null,
            "grid_auto_rows": null,
            "grid_column": null,
            "grid_gap": null,
            "grid_row": null,
            "grid_template_areas": null,
            "grid_template_columns": null,
            "grid_template_rows": null,
            "height": null,
            "justify_content": null,
            "justify_items": null,
            "left": null,
            "margin": null,
            "max_height": null,
            "max_width": null,
            "min_height": null,
            "min_width": null,
            "object_fit": null,
            "object_position": null,
            "order": null,
            "overflow": null,
            "overflow_x": null,
            "overflow_y": null,
            "padding": null,
            "right": null,
            "top": null,
            "visibility": null,
            "width": "20px"
          }
        },
        "42d0634ceb144a03b536a40bdc6a6a6c": {
          "model_module": "@jupyter-widgets/controls",
          "model_module_version": "1.5.0",
          "model_name": "DescriptionStyleModel",
          "state": {
            "_model_module": "@jupyter-widgets/controls",
            "_model_module_version": "1.5.0",
            "_model_name": "DescriptionStyleModel",
            "_view_count": null,
            "_view_module": "@jupyter-widgets/base",
            "_view_module_version": "1.2.0",
            "_view_name": "StyleView",
            "description_width": ""
          }
        },
        "4e76251a2ae64d46a44e02687cabadf6": {
          "model_module": "@jupyter-widgets/base",
          "model_module_version": "1.2.0",
          "model_name": "LayoutModel",
          "state": {
            "_model_module": "@jupyter-widgets/base",
            "_model_module_version": "1.2.0",
            "_model_name": "LayoutModel",
            "_view_count": null,
            "_view_module": "@jupyter-widgets/base",
            "_view_module_version": "1.2.0",
            "_view_name": "LayoutView",
            "align_content": null,
            "align_items": null,
            "align_self": null,
            "border": null,
            "bottom": null,
            "display": null,
            "flex": null,
            "flex_flow": null,
            "grid_area": null,
            "grid_auto_columns": null,
            "grid_auto_flow": null,
            "grid_auto_rows": null,
            "grid_column": null,
            "grid_gap": null,
            "grid_row": null,
            "grid_template_areas": null,
            "grid_template_columns": null,
            "grid_template_rows": null,
            "height": null,
            "justify_content": null,
            "justify_items": null,
            "left": null,
            "margin": null,
            "max_height": null,
            "max_width": null,
            "min_height": null,
            "min_width": null,
            "object_fit": null,
            "object_position": null,
            "order": null,
            "overflow": null,
            "overflow_x": null,
            "overflow_y": null,
            "padding": null,
            "right": null,
            "top": null,
            "visibility": null,
            "width": null
          }
        },
        "4ea6d5ec4e674b86b326e9ad059515ac": {
          "model_module": "@jupyter-widgets/controls",
          "model_module_version": "1.5.0",
          "model_name": "HTMLModel",
          "state": {
            "_dom_classes": [],
            "_model_module": "@jupyter-widgets/controls",
            "_model_module_version": "1.5.0",
            "_model_name": "HTMLModel",
            "_view_count": null,
            "_view_module": "@jupyter-widgets/controls",
            "_view_module_version": "1.5.0",
            "_view_name": "HTMLView",
            "description": "",
            "description_tooltip": null,
            "layout": "IPY_MODEL_9887e4d76d1b4176a69f9b4abf10dd34",
            "placeholder": "​",
            "style": "IPY_MODEL_5518ce904ce14dab82686c78ec68e5b0",
            "value": " 20/? [00:09&lt;00:00,  3.86 entities/s]"
          }
        },
        "5518ce904ce14dab82686c78ec68e5b0": {
          "model_module": "@jupyter-widgets/controls",
          "model_module_version": "1.5.0",
          "model_name": "DescriptionStyleModel",
          "state": {
            "_model_module": "@jupyter-widgets/controls",
            "_model_module_version": "1.5.0",
            "_model_name": "DescriptionStyleModel",
            "_view_count": null,
            "_view_module": "@jupyter-widgets/base",
            "_view_module_version": "1.2.0",
            "_view_name": "StyleView",
            "description_width": ""
          }
        },
        "9887e4d76d1b4176a69f9b4abf10dd34": {
          "model_module": "@jupyter-widgets/base",
          "model_module_version": "1.2.0",
          "model_name": "LayoutModel",
          "state": {
            "_model_module": "@jupyter-widgets/base",
            "_model_module_version": "1.2.0",
            "_model_name": "LayoutModel",
            "_view_count": null,
            "_view_module": "@jupyter-widgets/base",
            "_view_module_version": "1.2.0",
            "_view_name": "LayoutView",
            "align_content": null,
            "align_items": null,
            "align_self": null,
            "border": null,
            "bottom": null,
            "display": null,
            "flex": null,
            "flex_flow": null,
            "grid_area": null,
            "grid_auto_columns": null,
            "grid_auto_flow": null,
            "grid_auto_rows": null,
            "grid_column": null,
            "grid_gap": null,
            "grid_row": null,
            "grid_template_areas": null,
            "grid_template_columns": null,
            "grid_template_rows": null,
            "height": null,
            "justify_content": null,
            "justify_items": null,
            "left": null,
            "margin": null,
            "max_height": null,
            "max_width": null,
            "min_height": null,
            "min_width": null,
            "object_fit": null,
            "object_position": null,
            "order": null,
            "overflow": null,
            "overflow_x": null,
            "overflow_y": null,
            "padding": null,
            "right": null,
            "top": null,
            "visibility": null,
            "width": null
          }
        },
        "a0ff7d8b6a184d85ab1095e1b33f5557": {
          "model_module": "@jupyter-widgets/controls",
          "model_module_version": "1.5.0",
          "model_name": "ProgressStyleModel",
          "state": {
            "_model_module": "@jupyter-widgets/controls",
            "_model_module_version": "1.5.0",
            "_model_name": "ProgressStyleModel",
            "_view_count": null,
            "_view_module": "@jupyter-widgets/base",
            "_view_module_version": "1.2.0",
            "_view_name": "StyleView",
            "bar_color": null,
            "description_width": ""
          }
        },
        "b7e87a6c3b044a88a6d80ece25ea37c1": {
          "model_module": "@jupyter-widgets/base",
          "model_module_version": "1.2.0",
          "model_name": "LayoutModel",
          "state": {
            "_model_module": "@jupyter-widgets/base",
            "_model_module_version": "1.2.0",
            "_model_name": "LayoutModel",
            "_view_count": null,
            "_view_module": "@jupyter-widgets/base",
            "_view_module_version": "1.2.0",
            "_view_name": "LayoutView",
            "align_content": null,
            "align_items": null,
            "align_self": null,
            "border": null,
            "bottom": null,
            "display": null,
            "flex": null,
            "flex_flow": null,
            "grid_area": null,
            "grid_auto_columns": null,
            "grid_auto_flow": null,
            "grid_auto_rows": null,
            "grid_column": null,
            "grid_gap": null,
            "grid_row": null,
            "grid_template_areas": null,
            "grid_template_columns": null,
            "grid_template_rows": null,
            "height": null,
            "justify_content": null,
            "justify_items": null,
            "left": null,
            "margin": null,
            "max_height": null,
            "max_width": null,
            "min_height": null,
            "min_width": null,
            "object_fit": null,
            "object_position": null,
            "order": null,
            "overflow": null,
            "overflow_x": null,
            "overflow_y": null,
            "padding": null,
            "right": null,
            "top": null,
            "visibility": null,
            "width": null
          }
        },
        "e589aa36a04c47188557558bffaba0a1": {
          "model_module": "@jupyter-widgets/controls",
          "model_module_version": "1.5.0",
          "model_name": "HTMLModel",
          "state": {
            "_dom_classes": [],
            "_model_module": "@jupyter-widgets/controls",
            "_model_module_version": "1.5.0",
            "_model_name": "HTMLModel",
            "_view_count": null,
            "_view_module": "@jupyter-widgets/controls",
            "_view_module_version": "1.5.0",
            "_view_name": "HTMLView",
            "description": "",
            "description_tooltip": null,
            "layout": "IPY_MODEL_4e76251a2ae64d46a44e02687cabadf6",
            "placeholder": "​",
            "style": "IPY_MODEL_42d0634ceb144a03b536a40bdc6a6a6c",
            "value": "📁 Traversing directories for ds002778 : "
          }
        },
        "fea4964f44d744bda3dca6d26a4cddb9": {
          "model_module": "@jupyter-widgets/controls",
          "model_module_version": "1.5.0",
          "model_name": "HBoxModel",
          "state": {
            "_dom_classes": [],
            "_model_module": "@jupyter-widgets/controls",
            "_model_module_version": "1.5.0",
            "_model_name": "HBoxModel",
            "_view_count": null,
            "_view_module": "@jupyter-widgets/controls",
            "_view_module_version": "1.5.0",
            "_view_name": "HBoxView",
            "box_style": "",
            "children": [
              "IPY_MODEL_e589aa36a04c47188557558bffaba0a1",
              "IPY_MODEL_2d761bc9063e4bd1982ee2822b38c10f",
              "IPY_MODEL_4ea6d5ec4e674b86b326e9ad059515ac"
            ],
            "layout": "IPY_MODEL_b7e87a6c3b044a88a6d80ece25ea37c1"
          }
        }
      }
    }
  },
  "nbformat": 4,
  "nbformat_minor": 0
}
